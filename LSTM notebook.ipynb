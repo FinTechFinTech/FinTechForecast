{
  "cells": [
    {
      "cell_type": "code",
      "execution_count": null,
      "metadata": {
        "id": "Ll9OZfGfmJVQ"
      },
      "outputs": [],
      "source": [
        "%pip show numpy pandas matplotlib yfinance\n"
      ]
    },
    {
      "cell_type": "code",
      "execution_count": null,
      "metadata": {
        "id": "4PiiouMZvbPN"
      },
      "outputs": [],
      "source": [
        "from google.colab import drive\n",
        "drive.mount('/content/drive')"
      ]
    },
    {
      "cell_type": "code",
      "execution_count": null,
      "metadata": {
        "id": "9QqALMDzp-f6"
      },
      "outputs": [],
      "source": [
        "%pip install numpy==1.25.2 pandas==2.0.3 matplotlib==3.7.1 yfinance==0.2.38"
      ]
    },
    {
      "cell_type": "markdown",
      "metadata": {
        "id": "V-m6C4jEO9sx"
      },
      "source": [
        "需要套件"
      ]
    },
    {
      "cell_type": "code",
      "execution_count": null,
      "metadata": {
        "id": "j6kNV5exsnc8"
      },
      "outputs": [],
      "source": [
        "# Install Yahoo Finance package\n",
        "%pip install yfinance\n",
        "\n",
        "# Install HappyML\n",
        "import os\n",
        "from datetime import datetime, timedelta, date\n",
        "\n",
        "# Import necessary libraries\n",
        "import numpy as np\n",
        "import pandas as pd\n",
        "import matplotlib.pyplot as plt\n",
        "import dateutil.parser as psr\n",
        "import yfinance as yf\n",
        "import matplotlib.pyplot as plt\n",
        "from sklearn.preprocessing import MinMaxScaler\n",
        "# Chinese Font Settings for Chart Plotting (Colab)\n",
        "from matplotlib.font_manager import FontProperties\n",
        "from tensorflow.keras.callbacks import TensorBoard, LearningRateScheduler, ReduceLROnPlateau\n",
        "from tensorflow.keras.preprocessing.sequence import TimeseriesGenerator\n",
        "from tensorflow.keras.models import Sequential\n",
        "from tensorflow.keras import layers\n",
        "from tensorflow.keras.optimizers import RMSprop\n",
        "\n",
        "\n",
        "if not os.path.isdir(\"HappyML\"):\n",
        "  os.system(\"git clone https://github.com/cnchi/HappyML.git\")\n",
        "\n",
        "txt_path = \"/content/drive/MyDrive/output.txt\"\n",
        "\n",
        "!fc-list :lang=zh family\n",
        "!wget -O taipei_sans_tc_beta.ttf https://drive.google.com/uc?id=1eGAsTN1HBpJAkeVM57_C7ccp7hbgSz3_&export=download\n",
        "!mv taipei_sans_tc_beta.ttf /usr/local/lib/python3.10/dist-packages/matplotlib/mpl-data/fonts/ttf\n",
        "myfont = FontProperties(fname=r'/usr/local/lib/python3.10/dist-packages/matplotlib/mpl-data/fonts/ttf/taipei_sans_tc_beta.ttf')\n"
      ]
    },
    {
      "cell_type": "markdown",
      "metadata": {
        "id": "FwcBsofVWe2S"
      },
      "source": [
        "決定預測股票與時間"
      ]
    },
    {
      "cell_type": "code",
      "execution_count": null,
      "metadata": {
        "id": "oNq5P-B9srWl"
      },
      "outputs": [],
      "source": [
        "# Download the Stock Data\n",
        "stockID = input(\"請輸入台灣股票名稱、或代號：\")\n",
        "#2017-01-01\n",
        "startDate = psr.parse(input(\"請輸入查詢起始日期：\"))\n",
        "#2024-05-23\n",
        "endDate = psr.parse(input(\"請輸入查詢截止日期：\"))\n",
        "stockQuery = \"{}.TW\".format(stockID)\n",
        "dataset = yf.download(stockQuery, start=startDate.strftime(\"%Y-%m-%d\"), end=endDate.strftime(\"%Y-%m-%d\"))\n",
        "\n",
        "\n"
      ]
    },
    {
      "cell_type": "markdown",
      "metadata": {
        "id": "-veGn6MsXoYJ"
      },
      "source": [
        "模型訓練"
      ]
    },
    {
      "cell_type": "code",
      "execution_count": null,
      "metadata": {
        "id": "mfnqcweb0uWV"
      },
      "outputs": [],
      "source": [
        "def lstm(train_size, val_size, win_size, sample_step, win_moving, data_batch, train_epoch, cor_train_epoch, lr, unit1, unit2, unit3, dropout1, dropout2, dropout3, n):\n",
        "    X = dataset.iloc[:-1, :]\n",
        "    Y = dataset.iloc[1:, 3:4]\n",
        "\n",
        "\n",
        "    # Preprocessing: Feature Scaling (Normalization) with MinMaxScaler\n",
        "    scaler = MinMaxScaler(feature_range=(0, 1))\n",
        "    X_scale = scaler.fit_transform(X)\n",
        "    Y_scale = scaler.fit_transform(Y)\n",
        "\n",
        "\n",
        "    # Preprocessing: Split Training & Testing Data\n",
        "    X_train, X_val, X_test = np.split(X_scale,\n",
        "                    [int(train_size * len(X_scale)), int((train_size + val_size) * len(X_scale))])\n",
        "    Y_train, Y_val, Y_test = np.split(Y_scale,\n",
        "                    [int(train_size * len(Y_scale)), int((train_size + val_size) * len(Y_scale))])\n",
        "\n",
        "\n",
        "    # Preprocessing: Generate Recurrent Data\n",
        "    train_set = TimeseriesGenerator(\n",
        "            data=X_train,\n",
        "            targets=Y_train,\n",
        "            length=win_size,\n",
        "            sampling_rate=sample_step,\n",
        "            stride=win_moving,\n",
        "            batch_size=data_batch)\n",
        "\n",
        "    val_set = TimeseriesGenerator(\n",
        "            data=X_val,\n",
        "            targets=Y_val,\n",
        "            length=win_size,\n",
        "            sampling_rate=sample_step,\n",
        "            stride=win_moving,\n",
        "            batch_size=data_batch)\n",
        "\n",
        "    test_set = TimeseriesGenerator(\n",
        "            data=X_test,\n",
        "            targets=Y_test,\n",
        "            length=win_size,\n",
        "            sampling_rate=sample_step,\n",
        "            stride=win_moving,\n",
        "            batch_size=data_batch)\n",
        "\n",
        "\n",
        "        # Create Model\n",
        "    model = Sequential()\n",
        "    model.add(layers.LSTM(units=unit1, return_sequences=True, input_shape=(win_size, X.shape[1])))\n",
        "    model.add(layers.Dropout(dropout1))\n",
        "    model.add(layers.LSTM(units=unit2, return_sequences=True))\n",
        "    model.add(layers.Dropout(dropout2))\n",
        "    model.add(layers.LSTM(units=unit3))\n",
        "    model.add(layers.Dropout(dropout3))\n",
        "    model.add(layers.Dense(Y.shape[1], activation=\"linear\"))\n",
        "    model.compile(optimizer=RMSprop(learning_rate=lr), loss=\"mse\", metrics=[\"mse\"])\n",
        "\n",
        "    # Learning Rate Scheduler\n",
        "    def scheduler(epoch, lr):\n",
        "\n",
        "        if epoch % 50 == 0 and epoch != 0:\n",
        "            return lr * 0.85\n",
        "        return lr\n",
        "\n",
        "    lr_scheduler = LearningRateScheduler(scheduler)\n",
        "    # reduce_lr_on_plateau = ReduceLROnPlateau(monitor='val_loss', factor=0.5, patience=10, min_lr=1e-6, verbose=1)\n",
        "\n",
        "    # Load the TensorBoard notebook extension\n",
        "    %load_ext tensorboard\n",
        "    logdir = os.path.join(\"logs\", datetime.now().strftime(\"%Y%m%d-%H%M%S\"))\n",
        "    tensorboard_callback = TensorBoard(logdir, histogram_freq=1)\n",
        "    # Start the TensorBoard\n",
        "    %tensorboard --logdir logs\n",
        "\n",
        "\n",
        "    # Train Model\n",
        "    model.fit(train_set, validation_data=val_set, epochs=train_epoch, callbacks=[tensorboard_callback])\n",
        "    print(\"first train\")\n",
        "    # # Train Model (After Correction)\n",
        "    model.fit(train_set, validation_data=val_set, epochs=cor_train_epoch)\n",
        "\n",
        "    # In[] Model Evaluation\n",
        "    test_loss, test_mse = model.evaluate(test_set)\n",
        "\n",
        "    # Get the Predict Price (with date)\n",
        "    Y_pred = model.predict(test_set)\n",
        "    Y_pred_price = scaler.inverse_transform(Y_pred)\n",
        "    Y_pred_price = pd.DataFrame(data=Y_pred_price)\n",
        "    Y_pred_price.columns = [\"收盤價\"]\n",
        "    Y_pred_price.index = dataset.index[-len(Y_pred_price):].strftime(\"%Y-%m-%d\").tolist()\n",
        "\n",
        "    # Get the Real Price (with date)\n",
        "    Y_real_price = dataset.iloc[-len(Y_pred_price):][\"Close\"].to_frame()\n",
        "    Y_real_price.columns = [\"收盤價\"]\n",
        "    Y_real_price.index = dataset.index[-len(Y_pred_price):].strftime(\"%Y-%m-%d\").tolist()\n",
        "\n",
        "\n",
        "    # Get Trade Day\n",
        "    this_trade_day = dataset.index[-1].to_pydatetime()\n",
        "    next_trade_day = this_trade_day + timedelta(days=1)\n",
        "    if next_trade_day.isoweekday() in set((6, 7)):\n",
        "        next_trade_day += timedelta(days=8-next_trade_day.isoweekday())\n",
        "\n",
        "    # Show Predict Price\n",
        "    lookback_data = [[]]\n",
        "    for i in range(-win_size, 0):\n",
        "        lookback_data[0].append(X_scale[i].tolist())\n",
        "\n",
        "    lookback_data = np.reshape(lookback_data, (1, win_size, X_scale.shape[1]))\n",
        "    tomorrow_pred = scaler.inverse_transform(model.predict(lookback_data))\n",
        "\n",
        "\n",
        "\n",
        "    if next_trade_day.date() < date.today():\n",
        "        next_trade_day_end = next_trade_day + timedelta(days=1)\n",
        "        tomorrow_real = yf.download(stockQuery,\n",
        "                      start=next_trade_day.date().strftime(\"%Y-%m-%d\"),\n",
        "                      end=next_trade_day_end.date().strftime(\"%Y-%m-%d\"))\n",
        "        while tomorrow_real.empty:\n",
        "          next_trade_day += timedelta(days=1)\n",
        "          next_trade_day_end = next_trade_day + timedelta(days=1)\n",
        "          tomorrow_real = yf.download(stockQuery,\n",
        "                        start=next_trade_day.date().strftime(\"%Y-%m-%d\"),\n",
        "                        end=next_trade_day_end.date().strftime(\"%Y-%m-%d\"))\n",
        "\n",
        "    content_to_write = \"\"\"\n",
        "        __________________\n",
        "        第{}次嘗試\n",
        "        超參數：\n",
        "        train_size = {},\n",
        "        val_size = {},\n",
        "        win_size = {},\n",
        "        sample_step = {},\n",
        "        win_moving = {},\n",
        "        data_batch = {},\n",
        "        train_epoch = {},\n",
        "        cor_train_epoch = {},\n",
        "        lr = {},\n",
        "        unit1 = {},\n",
        "        unit2 = {},\n",
        "        unit3 = {},\n",
        "        dropout1 = {},\n",
        "        dropout2 = {},\n",
        "        dropout3 = {}\n",
        "        結果：\n",
        "        Loss of Test Set:, {}\n",
        "        MSE of Test Set:, {}\n",
        "        預測收盤價 ----------\n",
        "        最後一日（{}）：{:.2f}\n",
        "        次交易日（{}）：{:.2f}\n",
        "        預測漲跌：{:+.2f}\n",
        "        次交易日（{}）：{:.2f}\n",
        "        真實漲跌：{:+.2f}\n",
        "        __________________\n",
        "        \"\"\".format(n, train_size, val_size, win_size, sample_step, win_moving, data_batch, train_epoch, cor_train_epoch, lr, unit1, unit2, unit3, dropout1, dropout2, dropout3, test_loss, test_mse,\n",
        "          this_trade_day.strftime(\"%Y/%m/%d\"), Y_pred_price.iloc[-1][0], next_trade_day.strftime(\"%Y/%m/%d\"), tomorrow_pred[0][0],\n",
        "          (tomorrow_pred[0][0] - Y_pred_price.iloc[-1][0]), next_trade_day.strftime(\"%Y/%m/%d\"), tomorrow_real.iloc[0][\"Close\"],\n",
        "          (tomorrow_real.iloc[0][\"Close\"] - dataset.iloc[-1][\"Close\"])\n",
        "                   )\n",
        "    print(content_to_write)\n",
        "    with open(txt_path, 'a') as f:\n",
        "      f.write(content_to_write + \"\\n\")\n",
        "\n",
        "    return model, scaler, train_set, val_set, test_set, X_scale, Y_scale"
      ]
    },
    {
      "cell_type": "markdown",
      "metadata": {
        "id": "OvaH_KMWpglR"
      },
      "source": [
        "複製這段然後修改每個變數，讓你可以一次多跑一些"
      ]
    },
    {
      "cell_type": "code",
      "execution_count": null,
      "metadata": {
        "id": "YSXxqIGDPguY"
      },
      "outputs": [],
      "source": [
        "n = 0\n",
        "for a in range(16, 32, 8):\n",
        "  for b in range(1, 4, 1):\n",
        "    for c in range (5, 10, 5):\n",
        "      for d in range (300, 500, 100):\n",
        "        for e in range (20, 32, 12):\n",
        "          model, scaler, train_set, val_set, test_set, X_scale, Y_scale = lstm(\n",
        "              train_size = 0.6,\n",
        "              val_size = 0.2,\n",
        "              win_size = a,\n",
        "              sample_step = 1,\n",
        "              win_moving = 10,\n",
        "              data_batch = e,\n",
        "              train_epoch = d,\n",
        "              cor_train_epoch = 250,\n",
        "              lr = 0.01,\n",
        "              unit1 = 64,\n",
        "              unit2 = 64,\n",
        "              unit3 = 64,\n",
        "              dropout1 = 0.2,\n",
        "              dropout2 = 0.2,\n",
        "              dropout3 = 0.2,\n",
        "              n = n  # n\n",
        "              )\n",
        "          n = n + 1"
      ]
    },
    {
      "cell_type": "code",
      "execution_count": null,
      "metadata": {
        "id": "qW45AhZd3pQC"
      },
      "outputs": [],
      "source": [
        "            model, scaler, train_set, val_set, test_set, X_scale, Y_scale = lstm(\n",
        "              train_size = 0.6,\n",
        "              val_size = 0.2,\n",
        "              win_size = 32,\n",
        "              sample_step = 1,\n",
        "              win_moving = 5,\n",
        "              data_batch = 20,\n",
        "              train_epoch = 500,\n",
        "              cor_train_epoch = 250,\n",
        "              lr = 0.01,\n",
        "              unit1 = 64,\n",
        "              unit2 = 64,\n",
        "              unit3 = 64,\n",
        "              dropout1 = 0.2,\n",
        "              dropout2 = 0.2,\n",
        "              dropout3 = 0.2,\n",
        "              n = 1  # n\n",
        "              )"
      ]
    },
    {
      "cell_type": "code",
      "execution_count": null,
      "metadata": {
        "id": "4Oo1nRFX56j_"
      },
      "outputs": [],
      "source": [
        "# Get the Predict Price (with date)\n",
        "Y_pred = model.predict(test_set)\n",
        "Y_pred_price = scaler.inverse_transform(Y_pred)\n",
        "Y_pred_price = pd.DataFrame(data=Y_pred_price)\n",
        "Y_pred_price.columns = [\"收盤價\"]\n",
        "Y_pred_price.index = dataset.index[-len(Y_pred_price):].strftime(\"%Y-%m-%d\").tolist()\n",
        "\n",
        "# Get the Real Price (with date)\n",
        "Y_real_price = dataset.iloc[-len(Y_pred_price):][\"Close\"].to_frame()\n",
        "Y_real_price.columns = [\"收盤價\"]\n",
        "Y_real_price.index = dataset.index[-len(Y_pred_price):].strftime(\"%Y-%m-%d\").tolist()\n",
        "\n",
        "# Plot the predict vs. real price\n",
        "import matplotlib.ticker as ticker\n",
        "\n",
        "fig, ax = plt.subplots(1, 1)\n",
        "\n",
        "ax.plot(Y_pred_price, color=\"blue\", label=\"Predict\")\n",
        "ax.plot(Y_real_price, color=\"red\", label=\"Real\")\n",
        "\n",
        "tick_spacing = 5\n",
        "ax.xaxis.set_major_locator(ticker.MultipleLocator(tick_spacing))\n",
        "fig.autofmt_xdate()\n",
        "\n",
        "plt.title(\"{} 收盤價盲測結果\".format(stockID), fontproperties=myfont)\n",
        "plt.xlabel(\"日期\", fontproperties=myfont)\n",
        "plt.ylabel(\"收盤價\", fontproperties=myfont)\n",
        "plt.legend(loc=\"best\")\n",
        "plt.show()"
      ]
    },
    {
      "cell_type": "code",
      "execution_count": null,
      "metadata": {
        "id": "hizwwc6lb_lf"
      },
      "outputs": [],
      "source": [
        "            model, scaler, train_set, val_set, test_set, X_scale, Y_scale = lstm(\n",
        "              train_size = 0.6,\n",
        "              val_size = 0.2,\n",
        "              win_size = 30,\n",
        "              sample_step = 1,\n",
        "              win_moving = 1,\n",
        "              data_batch = 16,\n",
        "              train_epoch = 300,\n",
        "              cor_train_epoch = 100,\n",
        "              lr = 0.0001,\n",
        "              unit1 = 64,\n",
        "              unit2 = 64,\n",
        "              unit3 = 16,\n",
        "              dropout1 = 0.2,\n",
        "              dropout2 = 0.2,\n",
        "              dropout3 = 0.2,\n",
        "              n = 1  # n\n",
        "              )\n"
      ]
    },
    {
      "cell_type": "markdown",
      "metadata": {
        "id": "oeUH3nKsXvd_"
      },
      "source": [
        "畫出預測結果圖"
      ]
    },
    {
      "cell_type": "code",
      "execution_count": null,
      "metadata": {
        "id": "qpRB18Vy4CQO"
      },
      "outputs": [],
      "source": [
        "\n",
        "# Get the Predict Price (with date)\n",
        "Y_pred = model.predict(test_set)\n",
        "Y_pred_price = scaler.inverse_transform(Y_pred)\n",
        "Y_pred_price = pd.DataFrame(data=Y_pred_price)\n",
        "Y_pred_price.columns = [\"收盤價\"]\n",
        "Y_pred_price.index = dataset.index[-len(Y_pred_price):].strftime(\"%Y-%m-%d\").tolist()\n",
        "\n",
        "# Get the Real Price (with date)\n",
        "Y_real_price = dataset.iloc[-len(Y_pred_price):][\"Close\"].to_frame()\n",
        "Y_real_price.columns = [\"收盤價\"]\n",
        "Y_real_price.index = dataset.index[-len(Y_pred_price):].strftime(\"%Y-%m-%d\").tolist()\n",
        "\n",
        "# Plot the predict vs. real price\n",
        "import matplotlib.ticker as ticker\n",
        "\n",
        "fig, ax = plt.subplots(1, 1)\n",
        "\n",
        "ax.plot(Y_pred_price, color=\"blue\", label=\"Predict\")\n",
        "ax.plot(Y_real_price, color=\"red\", label=\"Real\")\n",
        "\n",
        "tick_spacing = 5\n",
        "ax.xaxis.set_major_locator(ticker.MultipleLocator(tick_spacing))\n",
        "fig.autofmt_xdate()\n",
        "\n",
        "plt.title(\"{} 收盤價盲測結果\".format(stockID), fontproperties=myfont)\n",
        "plt.xlabel(\"日期\", fontproperties=myfont)\n",
        "plt.ylabel(\"收盤價\", fontproperties=myfont)\n",
        "plt.legend(loc=\"best\")\n",
        "plt.show()"
      ]
    },
    {
      "cell_type": "markdown",
      "metadata": {
        "id": "EQnvlTDTXzfx"
      },
      "source": [
        "比較預測收盤價與真實收盤價"
      ]
    },
    {
      "cell_type": "code",
      "execution_count": null,
      "metadata": {
        "id": "lsIaZXwM4JPh"
      },
      "outputs": [],
      "source": []
    }
  ],
  "metadata": {
    "accelerator": "TPU",
    "colab": {
      "provenance": []
    },
    "kernelspec": {
      "display_name": "Python 3",
      "name": "python3"
    },
    "language_info": {
      "name": "python"
    }
  },
  "nbformat": 4,
  "nbformat_minor": 0
}