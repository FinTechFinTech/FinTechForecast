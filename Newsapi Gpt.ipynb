{
  "nbformat": 4,
  "nbformat_minor": 0,
  "metadata": {
    "colab": {
      "provenance": []
    },
    "kernelspec": {
      "name": "python3",
      "display_name": "Python 3"
    },
    "language_info": {
      "name": "python"
    }
  },
  "cells": [
    {
      "cell_type": "code",
      "source": [
        "%pip install newsapi-python"
      ],
      "metadata": {
        "colab": {
          "base_uri": "https://localhost:8080/"
        },
        "id": "BkORO-exWhTH",
        "outputId": "d372eab0-32c3-469f-a461-f41c60d56fd1"
      },
      "execution_count": null,
      "outputs": [
        {
          "output_type": "stream",
          "name": "stdout",
          "text": [
            "Collecting newsapi-python\n",
            "  Downloading newsapi_python-0.2.7-py2.py3-none-any.whl (7.9 kB)\n",
            "Requirement already satisfied: requests<3.0.0 in /usr/local/lib/python3.10/dist-packages (from newsapi-python) (2.31.0)\n",
            "Requirement already satisfied: charset-normalizer<4,>=2 in /usr/local/lib/python3.10/dist-packages (from requests<3.0.0->newsapi-python) (3.3.2)\n",
            "Requirement already satisfied: idna<4,>=2.5 in /usr/local/lib/python3.10/dist-packages (from requests<3.0.0->newsapi-python) (3.7)\n",
            "Requirement already satisfied: urllib3<3,>=1.21.1 in /usr/local/lib/python3.10/dist-packages (from requests<3.0.0->newsapi-python) (2.0.7)\n",
            "Requirement already satisfied: certifi>=2017.4.17 in /usr/local/lib/python3.10/dist-packages (from requests<3.0.0->newsapi-python) (2024.2.2)\n",
            "Installing collected packages: newsapi-python\n",
            "Successfully installed newsapi-python-0.2.7\n"
          ]
        }
      ]
    },
    {
      "cell_type": "code",
      "source": [
        "%pip install ipython # 用於顯示圖片"
      ],
      "metadata": {
        "colab": {
          "base_uri": "https://localhost:8080/"
        },
        "id": "ACTmms02Lubr",
        "outputId": "cb5bd9f9-11e7-457f-dea8-8306789070fc"
      },
      "execution_count": null,
      "outputs": [
        {
          "output_type": "stream",
          "name": "stdout",
          "text": [
            "Requirement already satisfied: ipython in /usr/local/lib/python3.10/dist-packages (7.34.0)\n",
            "Requirement already satisfied: setuptools>=18.5 in /usr/local/lib/python3.10/dist-packages (from ipython) (67.7.2)\n",
            "Collecting jedi>=0.16 (from ipython)\n",
            "  Downloading jedi-0.19.1-py2.py3-none-any.whl (1.6 MB)\n",
            "\u001b[2K     \u001b[90m━━━━━━━━━━━━━━━━━━━━━━━━━━━━━━━━━━━━━━━━\u001b[0m \u001b[32m1.6/1.6 MB\u001b[0m \u001b[31m11.3 MB/s\u001b[0m eta \u001b[36m0:00:00\u001b[0m\n",
            "\u001b[?25hRequirement already satisfied: decorator in /usr/local/lib/python3.10/dist-packages (from ipython) (4.4.2)\n",
            "Requirement already satisfied: pickleshare in /usr/local/lib/python3.10/dist-packages (from ipython) (0.7.5)\n",
            "Requirement already satisfied: traitlets>=4.2 in /usr/local/lib/python3.10/dist-packages (from ipython) (5.7.1)\n",
            "Requirement already satisfied: prompt-toolkit!=3.0.0,!=3.0.1,<3.1.0,>=2.0.0 in /usr/local/lib/python3.10/dist-packages (from ipython) (3.0.43)\n",
            "Requirement already satisfied: pygments in /usr/local/lib/python3.10/dist-packages (from ipython) (2.16.1)\n",
            "Requirement already satisfied: backcall in /usr/local/lib/python3.10/dist-packages (from ipython) (0.2.0)\n",
            "Requirement already satisfied: matplotlib-inline in /usr/local/lib/python3.10/dist-packages (from ipython) (0.1.7)\n",
            "Requirement already satisfied: pexpect>4.3 in /usr/local/lib/python3.10/dist-packages (from ipython) (4.9.0)\n",
            "Requirement already satisfied: parso<0.9.0,>=0.8.3 in /usr/local/lib/python3.10/dist-packages (from jedi>=0.16->ipython) (0.8.4)\n",
            "Requirement already satisfied: ptyprocess>=0.5 in /usr/local/lib/python3.10/dist-packages (from pexpect>4.3->ipython) (0.7.0)\n",
            "Requirement already satisfied: wcwidth in /usr/local/lib/python3.10/dist-packages (from prompt-toolkit!=3.0.0,!=3.0.1,<3.1.0,>=2.0.0->ipython) (0.2.13)\n",
            "Installing collected packages: jedi\n",
            "Successfully installed jedi-0.19.1\n"
          ]
        }
      ]
    },
    {
      "cell_type": "code",
      "source": [
        "my_api_key = 'YOUR_NEWS_API_KEY' # newsapi key: 7a149175eb004d11a308cf6991e7487d"
      ],
      "metadata": {
        "id": "fGybahL4IdL8"
      },
      "execution_count": null,
      "outputs": []
    },
    {
      "cell_type": "code",
      "source": [
        "from newsapi import NewsApiClient\n",
        "# from key import my_api_key\n",
        "import datetime as dt\n",
        "import pandas as pd"
      ],
      "metadata": {
        "id": "D7sTo5ZOEQ4z"
      },
      "execution_count": null,
      "outputs": []
    },
    {
      "cell_type": "code",
      "source": [
        "newsapi = NewsApiClient(api_key=my_api_key)"
      ],
      "metadata": {
        "id": "fspq8i3BHOUS"
      },
      "execution_count": null,
      "outputs": []
    },
    {
      "cell_type": "code",
      "source": [
        "keyword = '鴻海'\n",
        "data = newsapi.get_everything(q=keyword, language='zh', page_size=20)"
      ],
      "metadata": {
        "id": "UJF6oPIQIsai"
      },
      "execution_count": null,
      "outputs": []
    },
    {
      "cell_type": "code",
      "source": [
        "type(data) #查看data的type"
      ],
      "metadata": {
        "colab": {
          "base_uri": "https://localhost:8080/"
        },
        "id": "EeQDC8tAHiN0",
        "outputId": "b118de4d-ca66-4359-b059-f04500c0facd"
      },
      "execution_count": null,
      "outputs": [
        {
          "output_type": "execute_result",
          "data": {
            "text/plain": [
              "dict"
            ]
          },
          "metadata": {},
          "execution_count": 9
        }
      ]
    },
    {
      "cell_type": "code",
      "source": [
        "data.keys()"
      ],
      "metadata": {
        "colab": {
          "base_uri": "https://localhost:8080/"
        },
        "id": "Cm_Vw29vIxlo",
        "outputId": "310891db-64ae-42e2-c2f1-d35b636eeff1"
      },
      "execution_count": null,
      "outputs": [
        {
          "output_type": "execute_result",
          "data": {
            "text/plain": [
              "dict_keys(['status', 'totalResults', 'articles'])"
            ]
          },
          "metadata": {},
          "execution_count": 10
        }
      ]
    },
    {
      "cell_type": "code",
      "source": [
        "data['totalResults']"
      ],
      "metadata": {
        "colab": {
          "base_uri": "https://localhost:8080/"
        },
        "id": "L7cmPairJQoe",
        "outputId": "620a802e-2427-4583-dc51-871df6a5725b"
      },
      "execution_count": null,
      "outputs": [
        {
          "output_type": "execute_result",
          "data": {
            "text/plain": [
              "513"
            ]
          },
          "metadata": {},
          "execution_count": 11
        }
      ]
    },
    {
      "cell_type": "code",
      "source": [
        "type(data['articles']) #查看data['articles'的type]"
      ],
      "metadata": {
        "colab": {
          "base_uri": "https://localhost:8080/"
        },
        "id": "t340fnFQJVMi",
        "outputId": "a8d03fba-3f7e-4ca2-8984-aa48c2ec207f"
      },
      "execution_count": null,
      "outputs": [
        {
          "output_type": "execute_result",
          "data": {
            "text/plain": [
              "list"
            ]
          },
          "metadata": {},
          "execution_count": 12
        }
      ]
    },
    {
      "cell_type": "code",
      "source": [
        "data['articles'][0]"
      ],
      "metadata": {
        "colab": {
          "base_uri": "https://localhost:8080/"
        },
        "id": "t2oglQiWJZ6D",
        "outputId": "1c613fdc-8882-488c-f338-ec3007560429"
      },
      "execution_count": null,
      "outputs": [
        {
          "output_type": "execute_result",
          "data": {
            "text/plain": [
              "{'source': {'id': None, 'name': 'Thenewslens.com'},\n",
              " 'author': '中央通訊社',\n",
              " 'title': '拜登抨擊川普未能兌現投資承諾，鴻海投資威州規模縮水，受4大因素變動影響',\n",
              " 'description': '鴻海在威州投資轉折，也成為美國總統大選攻防焦點。美國白宮新聞資料9日指出，前川普政府原承諾鴻海投資將創造1.3萬個製造業工作機會，但計畫沒有實現，鴻海放棄興建面板廠，只有創造少數工作機會。鴻海回應指出，威州廠區是製造資料伺服器的關鍵據點，當地員工數超過1000名，鴻海在威州投資規模達10億美元，持續追求與當地社區一同成長的契機。',\n",
              " 'url': 'https://www.thenewslens.com/article/202488',\n",
              " 'urlToImage': 'https://image1.thenewslens.com/2024/5/rqcdtxco4xa3g3ojiplcofprbfztqf.jpg?fm=jpg&format=crop&h=630&q=70&w=1200',\n",
              " 'publishedAt': '2024-05-10T01:55:11Z',\n",
              " 'content': 'Photo CreditTikTokTikTok Yes man Diva \\r\\nTikTok Yes man@yesman_7497 Diva@diva.dance4life TikTok \\r\\nPhoto CreditTikTokYes man \\r\\n70 Yes man \\r\\n TikTok 700 Yes manYes man 70 \\r\\n CP Yes man TikTok \\r\\nPhoto Cr… [+143 chars]'}"
            ]
          },
          "metadata": {},
          "execution_count": 13
        }
      ]
    },
    {
      "cell_type": "code",
      "source": [
        "articles = data['articles']"
      ],
      "metadata": {
        "id": "L3Uw8yvgJjjK"
      },
      "execution_count": null,
      "outputs": []
    },
    {
      "cell_type": "code",
      "source": [
        "for x, y in enumerate(articles):\n",
        "  print(f'{x} {y[\"title\"]}')"
      ],
      "metadata": {
        "colab": {
          "base_uri": "https://localhost:8080/"
        },
        "id": "qTNxTvsmKl07",
        "outputId": "c0832fd3-1edf-4fe2-cd01-e460b763720f"
      },
      "execution_count": null,
      "outputs": [
        {
          "output_type": "stream",
          "name": "stdout",
          "text": [
            "0 拜登抨擊川普未能兌現投資承諾，鴻海投資威州規模縮水，受4大因素變動影響\n",
            "1 鴻海4月營收5,108.96 億元\n",
            "2 鴻海合作西門子，布局資通訊和電動車製造生態系\n",
            "3 鴻海增資美國德州廠，續擴大北美 AI 伺服器布局\n",
            "4 GB200 伺服器需求高，鴻海吃下近半數訂單\n",
            "5 台積電ADR強漲，法人：台股有望挑戰新高，半導體景氣復甦不如預期強勁\n",
            "6 美國 AI 訂單強勁至 2025 年！外資點名奇鋐、雙鴻、鴻海、緯創受惠\n",
            "7 鴻海：投資威州 10 億美元，是資料伺服器關鍵製造據點\n",
            "8 蘋果 iPad 新品亮相，代工廠股價走揚漲逾 1%\n",
            "9 鴻海擬 2025 年美國推出新電動車，日本客戶下半年簽約\n",
            "10 鴻海投資威州規模縮水，受四大因素變動影響\n",
            "11 AI 伺服器強勁，鴻海早盤股價漲近 5% 創 16 年高點\n",
            "12 【Hot台股】鴻海跳高站回5日線 網「海公公等我上車」 專家：股價不排除創高\n",
            "13 鴻海轉投資夏普堺工廠定位，劉揚偉：轉型 AI 資料中心\n",
            "14 路透：越南憂缺電危機重演，要求鴻海等外商減少用電\n",
            "15 拜登酸川普未兌現對鴻海的投資　鴻海這樣說\n",
            "16 拜登拿鴻海威州投資酸爆川普　鴻海回應了\n",
            "17 昔日鴻海造車夥伴 Fisker，將關閉加州總部並警告將裁員\n",
            "18 微軟建威斯康辛州 AI 資料中心，原為鴻海規劃面板廠址\n",
            "19 鴻華先進：國內市場正面　積極拓展海外市場\n"
          ]
        }
      ]
    },
    {
      "cell_type": "code",
      "source": [
        "from IPython.display import Image, display"
      ],
      "metadata": {
        "id": "kpGRnDV0MRuT"
      },
      "execution_count": null,
      "outputs": []
    },
    {
      "cell_type": "code",
      "source": [
        "# 打印新聞詳細信息並顯示圖片\n",
        "for article in articles:\n",
        "        source = article.get('source', {}).get('name', 'Unknown')\n",
        "        author = article.get('author', 'Unknown')\n",
        "        title = article.get('title', 'No Title')\n",
        "        description = article.get('description', 'No Description')\n",
        "        url = article.get('url', 'No URL')\n",
        "        urlToImage = article.get('urlToImage', None)\n",
        "        publishedAt = article.get('publishedAt', 'No Publish Date')\n",
        "        content = article.get('content', 'No Content')\n",
        "\n",
        "        print(f\"Source: {source}\")\n",
        "        print(f\"Author: {author}\")\n",
        "        print(f\"Title: {title}\")\n",
        "        print(f\"Description: {description}\")\n",
        "        print(f\"URL: {url}\")\n",
        "        print(f\"Published At: {publishedAt}\")\n",
        "        print(f\"Content: {content}\")\n",
        "        print('---')\n",
        "\n",
        "        # 顯示圖片\n",
        "        if urlToImage:\n",
        "            display(Image(url=urlToImage))"
      ],
      "metadata": {
        "colab": {
          "base_uri": "https://localhost:8080/",
          "height": 1000
        },
        "id": "BfjwEms_Mkb1",
        "outputId": "a5a84cc9-3d34-49bc-99ba-de69814ceaa1"
      },
      "execution_count": null,
      "outputs": [
        {
          "output_type": "stream",
          "name": "stdout",
          "text": [
            "Source: Thenewslens.com\n",
            "Author: 中央通訊社\n",
            "Title: 拜登抨擊川普未能兌現投資承諾，鴻海投資威州規模縮水，受4大因素變動影響\n",
            "Description: 鴻海在威州投資轉折，也成為美國總統大選攻防焦點。美國白宮新聞資料9日指出，前川普政府原承諾鴻海投資將創造1.3萬個製造業工作機會，但計畫沒有實現，鴻海放棄興建面板廠，只有創造少數工作機會。鴻海回應指出，威州廠區是製造資料伺服器的關鍵據點，當地員工數超過1000名，鴻海在威州投資規模達10億美元，持續追求與當地社區一同成長的契機。\n",
            "URL: https://www.thenewslens.com/article/202488\n",
            "Published At: 2024-05-10T01:55:11Z\n",
            "Content: Photo CreditTikTokTikTok Yes man Diva \r\n",
            "TikTok Yes man@yesman_7497 Diva@diva.dance4life TikTok \r\n",
            "Photo CreditTikTokYes man \r\n",
            "70 Yes man \r\n",
            " TikTok 700 Yes manYes man 70 \r\n",
            " CP Yes man TikTok \r\n",
            "Photo Cr… [+143 chars]\n",
            "---\n"
          ]
        },
        {
          "output_type": "display_data",
          "data": {
            "text/html": [
              "<img src=\"https://image1.thenewslens.com/2024/5/rqcdtxco4xa3g3ojiplcofprbfztqf.jpg?fm=jpg&format=crop&h=630&q=70&w=1200\"/>"
            ],
            "text/plain": [
              "<IPython.core.display.Image object>"
            ]
          },
          "metadata": {}
        },
        {
          "output_type": "stream",
          "name": "stdout",
          "text": [
            "Source: Technews.tw\n",
            "Author: TechNews 財報助手\n",
            "Title: 鴻海4月營收5,108.96 億元\n",
            "Description: 鴻海（2317）今（5）日公布 4 月營收，達 5,108.96 億元，較 3 月成長 14.2%，較去年同期成長 19.0%，累計前 4 月營收為 1.83 兆元，年增 -3.1%。\n",
            "URL: https://finance.technews.tw/2024/05/05/hon-hai-2317-202404-financial-report/\n",
            "Published At: 2024-05-05T08:10:02Z\n",
            "Content: 23175 4 5,108.96 3 14.2% 19.0% 4 1.83 -3.1%\n",
            "---\n"
          ]
        },
        {
          "output_type": "display_data",
          "data": {
            "text/html": [
              "<img src=\"https://img.technews.tw/wp-content/uploads/2019/06/05160506/TechNews_HON_HAI_2317_202404_yoy.png\"/>"
            ],
            "text/plain": [
              "<IPython.core.display.Image object>"
            ]
          },
          "metadata": {}
        },
        {
          "output_type": "stream",
          "name": "stdout",
          "text": [
            "Source: Technews.tw\n",
            "Author: 中央社\n",
            "Title: 鴻海合作西門子，布局資通訊和電動車製造生態系\n",
            "Description: 鴻海今天下午宣布與西門子簽署合作備忘錄（MOU），攜手布局智慧製造未來工廠和製造流程標準，強化資通訊產業和電動車產業製造生態系。 西門子總裁兼執行長博樂仁（Roland Busch）指出，西門子與鴻海合作，塑造電子製造業的未來。 鴻海董事長劉揚偉表示，鴻海正在轉型成為智慧製造、智慧電動車和智慧城市的...\n",
            "URL: https://technews.tw/2024/05/15/foxconn-siemens-mou/\n",
            "Published At: 2024-05-15T07:50:42Z\n",
            "Content: © 2013-2024 TechNews Inc. All rights reserved. | | | |\n",
            "---\n"
          ]
        },
        {
          "output_type": "display_data",
          "data": {
            "text/html": [
              "<img src=\"https://img.technews.tw/wp-content/uploads/2024/05/15154433/foxconn-siemens-mou.jpg\"/>"
            ],
            "text/plain": [
              "<IPython.core.display.Image object>"
            ]
          },
          "metadata": {}
        },
        {
          "output_type": "stream",
          "name": "stdout",
          "text": [
            "Source: Technews.tw\n",
            "Author: MoneyDJ\n",
            "Title: 鴻海增資美國德州廠，續擴大北美 AI 伺服器布局\n",
            "Description: 鴻海 22 日公告，透過子公司 Cloud Network Technology USA Inc.，以 1,400 萬美元（約新台幣 4.5 億元），增資美國德州休士頓子公司 Foxconn Assembly LLC.。 鴻海表示，增資目的是為長期投資。外界推測，此次增資可能是為擴充德州的AI伺服器...\n",
            "URL: https://technews.tw/2024/05/23/foxconn-usa-increase-capital/\n",
            "Published At: 2024-05-23T02:30:49Z\n",
            "Content: 22 Cloud Network Technology USA Inc. 1,400 4.5 Foxconn Assembly LLC.\r\n",
            "AIAI\r\n",
            "AIFoxconn AssemblyGB200GB200\r\n",
            "MoneyDJ\n",
            "---\n"
          ]
        },
        {
          "output_type": "display_data",
          "data": {
            "text/html": [
              "<img src=\"https://img.technews.tw/wp-content/uploads/2024/03/14163234/foxconn1.jpg\"/>"
            ],
            "text/plain": [
              "<IPython.core.display.Image object>"
            ]
          },
          "metadata": {}
        },
        {
          "output_type": "stream",
          "name": "stdout",
          "text": [
            "Source: Technews.tw\n",
            "Author: 邱 倢芯\n",
            "Title: GB200 伺服器需求高，鴻海吃下近半數訂單\n",
            "Description: 美國四大雲端服務供應商（CSP）近期法說會都顯示，因對於伺服器、AI 伺服器與資料中心建置的需求持續增加，2024~2025 年的資本支出也將持續提高。 據元大投顧釋出的最新報告顯示，雖然存在 ARM CPU 對效能產生負面影響的疑慮，CSP 業者對 Nvidia GB200 伺服器需求仍高，其中又...\n",
            "URL: https://finance.technews.tw/2024/05/08/gb200-hh/\n",
            "Published At: 2024-05-08T05:10:10Z\n",
            "Content: CSPAI 2024~2025 \r\n",
            " ARM CPU CSP Nvidia GB200 NLV36 NLV72 AI NLV72 GB200 \r\n",
            " 45% 25%22%6%\r\n",
            "2024 2025 AI 42 70 45 70 143% 67% MI300 6 3~4 \r\n",
            "Pixabay\n",
            "---\n"
          ]
        },
        {
          "output_type": "display_data",
          "data": {
            "text/html": [
              "<img src=\"https://img.technews.tw/wp-content/uploads/2023/10/12074612/AI-Server.jpg\"/>"
            ],
            "text/plain": [
              "<IPython.core.display.Image object>"
            ]
          },
          "metadata": {}
        },
        {
          "output_type": "stream",
          "name": "stdout",
          "text": [
            "Source: Thenewslens.com\n",
            "Author: 中央通訊社\n",
            "Title: 台積電ADR強漲，法人：台股有望挑戰新高，半導體景氣復甦不如預期強勁\n",
            "Description: 永豐投顧指出，鴻海將於14日召開線上法說會，是本週台股重頭戲，隨後人工智慧（AI）晶片龍頭廠輝達（NVIDIA）將於23日公布財報及展望，也是市場關注焦點。\n",
            "URL: https://www.thenewslens.com/article/202591\n",
            "Published At: 2024-05-13T01:09:56Z\n",
            "Content: Photo CreditTikTokTikTok Yes man Diva \r\n",
            "TikTok Yes man@yesman_7497 Diva@diva.dance4life TikTok \r\n",
            "Photo CreditTikTokYes man \r\n",
            "70 Yes man \r\n",
            " TikTok 700 Yes manYes man 70 \r\n",
            " CP Yes man TikTok \r\n",
            "Photo Cr… [+143 chars]\n",
            "---\n"
          ]
        },
        {
          "output_type": "display_data",
          "data": {
            "text/html": [
              "<img src=\"https://image1.thenewslens.com/2023/7/4c1u2nsyqh1ptatw6yn9kvhndwl8f7.jpg?fm=jpg&format=crop&h=630&q=70&w=1200\"/>"
            ],
            "text/plain": [
              "<IPython.core.display.Image object>"
            ]
          },
          "metadata": {}
        },
        {
          "output_type": "stream",
          "name": "stdout",
          "text": [
            "Source: Technews.tw\n",
            "Author: 姚 惠茹\n",
            "Title: 美國 AI 訂單強勁至 2025 年！外資點名奇鋐、雙鴻、鴻海、緯創受惠\n",
            "Description: 美國四大雲端服務供應商（CSP）大廠今年增加資本支出，散熱大廠 Vertiv 釋出對明年成長有信心的展望，英特爾（Intel）預估今年的 AI PC 有 40m 的量，即將走向升級循環，外資點名台積電、鴻海、緯創、仁寶、奇鋐、雙鴻將受惠，因為訂單強度可能會持續到 2025 年。 外資表示，奇鋐是水冷...\n",
            "URL: https://finance.technews.tw/2024/04/30/planned-capex-increases/\n",
            "Published At: 2024-04-30T02:44:03Z\n",
            "Content: CSP Vertiv Intel AI PC 40m 2025 \r\n",
            " H 3D VC \r\n",
            " GB VC NB \r\n",
            " 2025 2025 \r\n",
            "Meta 300~370 350~400 2025 Alphabet 49%\r\n",
            "Vertiv 2025 UPS\r\n",
            " 2024 AI PC 4,000 AI PC AI PC 2025 AI PC \r\n",
            "pixabay\n",
            "---\n"
          ]
        },
        {
          "output_type": "display_data",
          "data": {
            "text/html": [
              "<img src=\"https://img.technews.tw/wp-content/uploads/2024/04/23110336/ai-chip-cpu.jpg\"/>"
            ],
            "text/plain": [
              "<IPython.core.display.Image object>"
            ]
          },
          "metadata": {}
        },
        {
          "output_type": "stream",
          "name": "stdout",
          "text": [
            "Source: Technews.tw\n",
            "Author: 中央社\n",
            "Title: 鴻海：投資威州 10 億美元，是資料伺服器關鍵製造據點\n",
            "Description: 美國總統拜登（Joe Biden）今天在威斯康辛州為微軟投資造勢，抨擊競選對手川普未兌現鴻海投資承諾。鴻海今天表示，威州廠區是製造資料伺服器的關鍵據點，當地員工數超過 1,000 名，鴻海在威州投資規模達 10 億美元，持續追求與當地社區一同成長契機。 微軟（Microsoft）今天宣布在威州投資3...\n",
            "URL: https://technews.tw/2024/05/09/hon-hai-investment-in-wisconsin/\n",
            "Published At: 2024-05-09T03:25:59Z\n",
            "Content: © 2013-2024 TechNews Inc. All rights reserved. | | | |\n",
            "---\n"
          ]
        },
        {
          "output_type": "display_data",
          "data": {
            "text/html": [
              "<img src=\"https://img.technews.tw/wp-content/uploads/2024/05/09111014/RTSDP7JF.jpg\"/>"
            ],
            "text/plain": [
              "<IPython.core.display.Image object>"
            ]
          },
          "metadata": {}
        },
        {
          "output_type": "stream",
          "name": "stdout",
          "text": [
            "Source: Technews.tw\n",
            "Author: 中央社\n",
            "Title: 蘋果 iPad 新品亮相，代工廠股價走揚漲逾 1%\n",
            "Description: 蘋果公司 7 日晚間發表搭載 M4 晶片、歷來最薄的 iPad Pro 平板電腦，以及更大尺寸的 iPad Air，法人預期將為供應鏈挹注接單動能。8 日代工廠鴻海、仁寶股價逆勢走揚，盤中漲逾1%；晶圓代工廠台積電表現相對平淡。 鴻海8 日開低沿平盤169.5元震盪，之後翻紅，最高衝上171.5元、...\n",
            "URL: https://technews.tw/2024/05/08/ipad-pro-oem-stock-price-rises-by-more-than-1percent/\n",
            "Published At: 2024-05-08T03:15:23Z\n",
            "Content: 7 M4 iPad Pro iPad Air8 1%\r\n",
            "8 169.5171.51.18%36.151.54%8007921%\r\n",
            "7iPad Pro1113OLEDM4AIFinal Cut ProScene Removal Mask4K\r\n",
            "iPad AirM211131,200iPad AirWi-Fi\r\n",
            "Apple Pencil Pro\r\n",
            "Apple Pencil Pro\n",
            "---\n"
          ]
        },
        {
          "output_type": "display_data",
          "data": {
            "text/html": [
              "<img src=\"https://img.technews.tw/wp-content/uploads/2024/05/08105255/Apple-iPad-Pro-camera.jpg\"/>"
            ],
            "text/plain": [
              "<IPython.core.display.Image object>"
            ]
          },
          "metadata": {}
        },
        {
          "output_type": "stream",
          "name": "stdout",
          "text": [
            "Source: Technews.tw\n",
            "Author: 中央社\n",
            "Title: 鴻海擬 2025 年美國推出新電動車，日本客戶下半年簽約\n",
            "Description: 鴻海今天表示，電動車海外布局鎖定東南亞、美國和歐洲市場，2025 年在美國市場推出新車，日本已有兩家客戶，推動三個專案，第三和第四季正式簽約。 鴻海下午舉行線上法人說明會，董事長劉揚偉至歐洲出差，法說會由發言人巫俊毅和財務長黃德才主持。 關於海外電動車布局，巫俊毅表示，休旅車Model C、跨界（C...\n",
            "URL: https://finance.technews.tw/2024/05/14/honhai-2024-earnings-call/\n",
            "Published At: 2024-05-14T10:20:59Z\n",
            "Content: 2025 \r\n",
            "Model CCrossoverModel BModel T\r\n",
            "2025CDMSCDMS\r\n",
            "AI\r\n",
            "Sharp197105\r\n",
            "AIB/SBuy and Sell\r\n",
            "AICSPCSP\r\n",
            "202314%14%\n",
            "---\n"
          ]
        },
        {
          "output_type": "display_data",
          "data": {
            "text/html": [
              "<img src=\"https://img.technews.tw/wp-content/uploads/2023/10/25121144/HHTD23-electric-car.jpg\"/>"
            ],
            "text/plain": [
              "<IPython.core.display.Image object>"
            ]
          },
          "metadata": {}
        },
        {
          "output_type": "stream",
          "name": "stdout",
          "text": [
            "Source: Technews.tw\n",
            "Author: 中央社\n",
            "Title: 鴻海投資威州規模縮水，受四大因素變動影響\n",
            "Description: 美國總統拜登今天在威斯康辛州為微軟投資造勢，抨擊大選對手川普未兌現鴻海投資承諾。回顧鴻海在威州投資規模和項目經過多次調整，原規劃投資百億美元先進面板廠，現在轉型製造伺服器等網通設備，專家分析，主要是受 4 大因素變動影響。 微軟（Microsoft）今天宣布在威州投資33億美元興建人工智慧資料中心，...\n",
            "URL: https://finance.technews.tw/2024/05/09/reasons-why-hon-hais-investment-in-wisconsin-shrank/\n",
            "Published At: 2024-05-09T07:00:36Z\n",
            "Content: 4 \r\n",
            "Microsoft332018LCDJoe BidenBrad SmithDonald Trump\r\n",
            "2017Scott Walker40Racine10.58KLCD1001.3\r\n",
            "201868\r\n",
            "201811Tony Evers\r\n",
            "2019210.564WEDC2020\r\n",
            "2019620208\r\n",
            "20201011G2\r\n",
            "202112021420189\r\n",
            "20214\r\n",
            "10.5\r\n",
            "20… [+48 chars]\n",
            "---\n"
          ]
        },
        {
          "output_type": "display_data",
          "data": {
            "text/html": [
              "<img src=\"https://img.technews.tw/wp-content/uploads/2018/06/08142259/shutterstock_201284528-e1552465341531.jpg\"/>"
            ],
            "text/plain": [
              "<IPython.core.display.Image object>"
            ]
          },
          "metadata": {}
        },
        {
          "output_type": "stream",
          "name": "stdout",
          "text": [
            "Source: Technews.tw\n",
            "Author: 中央社\n",
            "Title: AI 伺服器強勁，鴻海早盤股價漲近 5% 創 16 年高點\n",
            "Description: 工業富聯看好今年人工智慧 AI 伺服器強勁成長，激勵母公司鴻海今天開盤股價勁揚，最高 179 元，漲 8.5 元，漲幅 4.98%，創 2008 年 6 月上旬以來高點，市值增加至新台幣 2.48 兆元，穩居台股個股第 2 大。 工業富聯看好今年雲端服務商資本支出強勁，帶動AI伺服器拉貨，預估今年A...\n",
            "URL: https://finance.technews.tw/2024/05/16/ai-server-foxconn-stoxk-price/\n",
            "Published At: 2024-05-16T02:20:13Z\n",
            "Content: AI 179 8.5 4.98% 2008 6 2.48 2 \r\n",
            "AIAI40%AI40%\r\n",
            "1AI4AI40%AI42025\r\n",
            "AIGPUAI\n",
            "---\n"
          ]
        },
        {
          "output_type": "display_data",
          "data": {
            "text/html": [
              "<img src=\"https://img.technews.tw/wp-content/uploads/2024/04/17153102/S__8069155_0-2.jpg\"/>"
            ],
            "text/plain": [
              "<IPython.core.display.Image object>"
            ]
          },
          "metadata": {}
        },
        {
          "output_type": "stream",
          "name": "stdout",
          "text": [
            "Source: Yahoo Entertainment\n",
            "Author: 劉瓊雯｜Yahoo財經特派記者\n",
            "Title: 【Hot台股】鴻海跳高站回5日線 網「海公公等我上車」 專家：股價不排除創高\n",
            "Description: 「空蛙加入鴻海吧」、「最近海運很好，買鴻海」、「海公公等我上車」。\n",
            "URL: https://tw.stock.yahoo.com/news/%E3%80%90hot%E5%8F%B0%E8%82%A1%E3%80%91%E9%B4%BB%E6%B5%B7%E8%B7%B3%E9%AB%98%E7%AB%99%E5%9B%9E5%E6%97%A5%E7%B7%9A-%E7%B6%B2%E3%80%8C%E6%B5%B7%E5%85%AC%E5%85%AC%E7%AD%89%E6%88%91%E4%B8%8A%E8%BB%8A%E3%80%8D-%E5%B0%88%E5%AE%B6%EF%BC%9A%E8%82%A1%E5%83%B9%E4%B8%8D%E6%8E%92%E9%99%A4%E5%89%B5%E9%AB%98-031658966.html\n",
            "Published At: 2024-05-02T19:16:58Z\n",
            "Content: -(2327)(2492)(3357)(6449)(6173) BB1 11.0221%3%2AI 009348%685201810 AI 7.2121.6%EPS1.59 5%1206.17123.55%1.27\n",
            "---\n"
          ]
        },
        {
          "output_type": "display_data",
          "data": {
            "text/html": [
              "<img src=\"https://s.yimg.com/ny/api/res/1.2/KeZvHW6pZRffnyDuKm62Kw--/YXBwaWQ9aGlnaGxhbmRlcjt3PTEyMDA7aD01ODk-/https://s.yimg.com/os/creatr-uploaded-images/2024-05/12e4dc60-08eb-11ef-bb7f-37b4dcb7b654\"/>"
            ],
            "text/plain": [
              "<IPython.core.display.Image object>"
            ]
          },
          "metadata": {}
        },
        {
          "output_type": "stream",
          "name": "stdout",
          "text": [
            "Source: Technews.tw\n",
            "Author: 中央社\n",
            "Title: 鴻海轉投資夏普堺工廠定位，劉揚偉：轉型 AI 資料中心\n",
            "Description: 鴻海轉投資日本夏普（Sharp）旗下大阪堺工廠（SDP）大尺寸面板虧損連連，鴻海董事長劉揚偉以夏普最大股東代表身分發言表示，堺工廠將轉型為人工智慧 AI 資料中心，共同推動夏普實現輕資產化的目標。 夏普下午在日本舉行中期營運方針法人說明會，日本媒體報導，夏普在大阪堺工廠SDP（Sakai Displ...\n",
            "URL: https://technews.tw/2024/05/14/young-liu-sdp-ai-data-center/\n",
            "Published At: 2024-05-14T08:45:29Z\n",
            "Content: SharpSDP AI \r\n",
            "SDPSakai Display Product9\r\n",
            "COVID-19\r\n",
            "20237\r\n",
            "AI\r\n",
            "3+3AI\r\n",
            "1+12\r\n",
            "20127SIO International Holdings66010SDPSDP37.61%\r\n",
            "SDP201320153\r\n",
            "20161210SDPSIOSIOSDP53.05%\r\n",
            "SDP10.5SDP20199SDPSDP\r\n",
            "L26, CC B… [+30 chars]\n",
            "---\n"
          ]
        },
        {
          "output_type": "display_data",
          "data": {
            "text/html": [
              "<img src=\"https://img.technews.tw/wp-content/uploads/2023/05/12092540/Sharp_Sakai.jpg\"/>"
            ],
            "text/plain": [
              "<IPython.core.display.Image object>"
            ]
          },
          "metadata": {}
        },
        {
          "output_type": "stream",
          "name": "stdout",
          "text": [
            "Source: Technews.tw\n",
            "Author: 中央社\n",
            "Title: 路透：越南憂缺電危機重演，要求鴻海等外商減少用電\n",
            "Description: 路透社引述兩名知情人士說法報導，越南去年爆發缺電危機後，當地官員要求鴻海位於越南北部的組裝廠自發性減少 30% 用電。 另有2名產業消息人士告訴路透社，越南去年夏天缺電，造成逾10億美元生產損失。為避免歷史重演，當局已要求多間工廠設法減少用電。 其中一名消息人士表示，越南當局「鼓勵」而非「要求」鴻海...\n",
            "URL: https://technews.tw/2024/05/22/apple-supplier-foxconn-among-firms-asked-to-cut-power-use-in-vietnam/\n",
            "Published At: 2024-05-22T02:15:13Z\n",
            "Content: 30% \r\n",
            "210\r\n",
            "Apple2535\r\n",
            "5614World BankGDP0.3%\r\n",
            "3Pham Minh Chinh\r\n",
            "Bac Giang6MacBookiPads\r\n",
            "ERAVBac Giang Power Company3\r\n",
            "The Ministry of Industry and TradeVietnam Electricity\r\n",
            "3Kocham\r\n",
            "Unsplash\n",
            "---\n"
          ]
        },
        {
          "output_type": "display_data",
          "data": {
            "text/html": [
              "<img src=\"https://img.technews.tw/wp-content/uploads/2023/12/28134229/tron-le-wUk2U5Wirxg-unsplash.jpg\"/>"
            ],
            "text/plain": [
              "<IPython.core.display.Image object>"
            ]
          },
          "metadata": {}
        },
        {
          "output_type": "stream",
          "name": "stdout",
          "text": [
            "Source: Yahoo Entertainment\n",
            "Author: None\n",
            "Title: 拜登酸川普未兌現對鴻海的投資　鴻海這樣說\n",
            "Description: [NOWnews今日新聞]微軟總裁史密斯昨（8）日造訪宣布將在美國威斯康辛州注資興建人工智慧資料中心，並且還選在當年鴻海宣布要建大尺寸面板廠的廠址。美國總統拜登昨日也出席同場活動，藉機把矛頭指向競選對...\n",
            "URL: https://consent.yahoo.com/v2/collectConsent?sessionId=1_cc-session_9d42a8f5-1f20-43ef-a8ed-afd2d5134a79\n",
            "Published At: 2024-05-08T18:56:51Z\n",
            "Content: If you click 'Accept all', we and our partners, including 238 who are part of the IAB Transparency &amp; Consent Framework, will also store and/or access information on a device (in other words, use … [+678 chars]\n",
            "---\n",
            "Source: Yahoo Entertainment\n",
            "Author: None\n",
            "Title: 拜登拿鴻海威州投資酸爆川普　鴻海回應了\n",
            "Description: 美國總統拜登（Joe Biden）日前在威斯康辛州，替微軟的新投資造勢，抨擊對手川普並未兌現富士康（鴻海）於當地的千億美金投資承諾。對此鴻海也發出回應表示，威州廠區是製造資料伺服器的關鍵據點，當地員工數超過1000名，鴻海在威州投資規模達10億美元，持續追求與當地社區一同成長契機。\n",
            "URL: https://consent.yahoo.com/v2/collectConsent?sessionId=1_cc-session_af41681d-aaf7-44d8-9aa3-25837db0031a\n",
            "Published At: 2024-05-09T22:59:00Z\n",
            "Content: If you click 'Accept all', we and our partners, including 238 who are part of the IAB Transparency &amp; Consent Framework, will also store and/or access information on a device (in other words, use … [+678 chars]\n",
            "---\n",
            "Source: Technews.tw\n",
            "Author: Chen Kobe\n",
            "Title: 昔日鴻海造車夥伴 Fisker，將關閉加州總部並警告將裁員\n",
            "Description: 美國電動車新創之一的 Fisker，傳出將關閉其位於加州的總部辦公室，同時也警告他們可能會進行大規模裁員，甚至做好破產準備。 當鴻海宣佈投資 Fisker，成為救命稻草時，Fisker 內部恐怕沒人想過他們會這麼快走到這一步，消息指出他們正準備關閉位於加州 Manhattan Beach 的總部辦公...\n",
            "URL: https://technews.tw/2024/05/07/fisker-closing-hq/\n",
            "Published At: 2024-05-07T08:48:23Z\n",
            "Content: Fisker\r\n",
            " FiskerFisker Manhattan Beach \r\n",
            " Fisker Fisker 60 La Palma \r\n",
            " Fisker 2024 Fisker OceanFisker \r\n",
            "Fisker \r\n",
            "2021 Fisker Fisker \r\n",
            "Fisker\n",
            "---\n"
          ]
        },
        {
          "output_type": "display_data",
          "data": {
            "text/html": [
              "<img src=\"https://img.technews.tw/wp-content/uploads/2023/05/03114926/Fisker_Ocean_AntiKnightRider_Still_b23yhx_rt6v4s.jpg\"/>"
            ],
            "text/plain": [
              "<IPython.core.display.Image object>"
            ]
          },
          "metadata": {}
        },
        {
          "output_type": "stream",
          "name": "stdout",
          "text": [
            "Source: Technews.tw\n",
            "Author: 中央社\n",
            "Title: 微軟建威斯康辛州 AI 資料中心，原為鴻海規劃面板廠址\n",
            "Description: 微軟總裁史密斯今天宣布將在威斯康辛州投入 33 億美元興建人工智慧資料中心，讓威州成為驅動創新經濟的核心，美國總統拜登也出席典禮。該廠址原是鴻海 6 年前承諾要蓋的 LCD 面板廠。 史密斯（Brad Smith）中午12時45分在蓋特威技術學院（Gateway Technical College）...\n",
            "URL: https://technews.tw/2024/05/09/microsoft-announces-3-3-billion-investment-in-wisconsin-to-spur-artificial-intelligence-innovation-and-economic-growth/\n",
            "Published At: 2024-05-09T01:50:55Z\n",
            "Content: Growing up in Wisconsin, I developed an appreciation of the states rich and storied legacy of innovation and ingenuity in manufacturing. @Microsoft‘s $3.3B investment will put our resources, scale, a… [+138 chars]\n",
            "---\n"
          ]
        },
        {
          "output_type": "display_data",
          "data": {
            "text/html": [
              "<img src=\"https://img.technews.tw/wp-content/uploads/2016/11/03150948/shutterstock_192614108-e1610589327419.jpg\"/>"
            ],
            "text/plain": [
              "<IPython.core.display.Image object>"
            ]
          },
          "metadata": {}
        },
        {
          "output_type": "stream",
          "name": "stdout",
          "text": [
            "Source: Yahoo Entertainment\n",
            "Author: 記者許家禎／台北報導\n",
            "Title: 鴻華先進：國內市場正面　積極拓展海外市場\n",
            "Description: [NOWnews今日新聞]鴻海旗下鴻華先進今（23）日於寶高智慧產業園區召開股東會，由鴻海暨鴻華先進董事長劉揚偉親自主持。鴻華先進2023營收10億4399萬元，年增253%，營運成本及費用管控方面，...\n",
            "URL: https://tw.news.yahoo.com/%E9%B4%BB%E8%8F%AF%E5%85%88%E9%80%B2-%E5%9C%8B%E5%85%A7%E5%B8%82%E5%A0%B4%E6%AD%A3%E9%9D%A2-%E7%A9%8D%E6%A5%B5%E6%8B%93%E5%B1%95%E6%B5%B7%E5%A4%96%E5%B8%82%E5%A0%B4-034806619.html\n",
            "Published At: 2024-05-22T19:48:06Z\n",
            "Content: [NOWnews] 232023104399253%1570932000\r\n",
            "MODEL TMODEL C\r\n",
            "MODEL T411202550020281,000AI\r\n",
            "MODEL CLuxgen n21009000MODEL BHHTD24\r\n",
            "CDMS\r\n",
            "CDMS\r\n",
            " NOWnews AI\n",
            "---\n"
          ]
        },
        {
          "output_type": "display_data",
          "data": {
            "text/html": [
              "<img src=\"https://media.zenfs.com/ko/nownews.com/b4a078ec1c3bd8a3cd31e58c6a8b7332\"/>"
            ],
            "text/plain": [
              "<IPython.core.display.Image object>"
            ]
          },
          "metadata": {}
        }
      ]
    },
    {
      "cell_type": "code",
      "source": [
        "df = pd.DataFrame(articles)\n",
        "df"
      ],
      "metadata": {
        "colab": {
          "base_uri": "https://localhost:8080/",
          "height": 1000
        },
        "id": "zvzAS7mjNpuf",
        "outputId": "2557c806-21e0-4c5d-f3b5-cdaa729f97a5"
      },
      "execution_count": null,
      "outputs": [
        {
          "output_type": "execute_result",
          "data": {
            "text/plain": [
              "                                         source           author  \\\n",
              "0       {'id': None, 'name': 'Thenewslens.com'}            中央通訊社   \n",
              "1           {'id': None, 'name': 'Technews.tw'}    TechNews 財報助手   \n",
              "2           {'id': None, 'name': 'Technews.tw'}              中央社   \n",
              "3           {'id': None, 'name': 'Technews.tw'}          MoneyDJ   \n",
              "4           {'id': None, 'name': 'Technews.tw'}             邱 倢芯   \n",
              "5       {'id': None, 'name': 'Thenewslens.com'}            中央通訊社   \n",
              "6           {'id': None, 'name': 'Technews.tw'}             姚 惠茹   \n",
              "7           {'id': None, 'name': 'Technews.tw'}              中央社   \n",
              "8           {'id': None, 'name': 'Technews.tw'}              中央社   \n",
              "9           {'id': None, 'name': 'Technews.tw'}              中央社   \n",
              "10          {'id': None, 'name': 'Technews.tw'}              中央社   \n",
              "11          {'id': None, 'name': 'Technews.tw'}              中央社   \n",
              "12  {'id': None, 'name': 'Yahoo Entertainment'}  劉瓊雯｜Yahoo財經特派記者   \n",
              "13          {'id': None, 'name': 'Technews.tw'}              中央社   \n",
              "14          {'id': None, 'name': 'Technews.tw'}              中央社   \n",
              "15  {'id': None, 'name': 'Yahoo Entertainment'}             None   \n",
              "16  {'id': None, 'name': 'Yahoo Entertainment'}             None   \n",
              "17          {'id': None, 'name': 'Technews.tw'}        Chen Kobe   \n",
              "18          {'id': None, 'name': 'Technews.tw'}              中央社   \n",
              "19  {'id': None, 'name': 'Yahoo Entertainment'}       記者許家禎／台北報導   \n",
              "\n",
              "                                     title  \\\n",
              "0      拜登抨擊川普未能兌現投資承諾，鴻海投資威州規模縮水，受4大因素變動影響   \n",
              "1                        鴻海4月營收5,108.96 億元   \n",
              "2                   鴻海合作西門子，布局資通訊和電動車製造生態系   \n",
              "3                 鴻海增資美國德州廠，續擴大北美 AI 伺服器布局   \n",
              "4                   GB200 伺服器需求高，鴻海吃下近半數訂單   \n",
              "5       台積電ADR強漲，法人：台股有望挑戰新高，半導體景氣復甦不如預期強勁   \n",
              "6     美國 AI 訂單強勁至 2025 年！外資點名奇鋐、雙鴻、鴻海、緯創受惠   \n",
              "7              鴻海：投資威州 10 億美元，是資料伺服器關鍵製造據點   \n",
              "8                蘋果 iPad 新品亮相，代工廠股價走揚漲逾 1%   \n",
              "9             鴻海擬 2025 年美國推出新電動車，日本客戶下半年簽約   \n",
              "10                    鴻海投資威州規模縮水，受四大因素變動影響   \n",
              "11           AI 伺服器強勁，鴻海早盤股價漲近 5% 創 16 年高點   \n",
              "12  【Hot台股】鴻海跳高站回5日線 網「海公公等我上車」 專家：股價不排除創高   \n",
              "13             鴻海轉投資夏普堺工廠定位，劉揚偉：轉型 AI 資料中心   \n",
              "14                路透：越南憂缺電危機重演，要求鴻海等外商減少用電   \n",
              "15                    拜登酸川普未兌現對鴻海的投資　鴻海這樣說   \n",
              "16                     拜登拿鴻海威州投資酸爆川普　鴻海回應了   \n",
              "17           昔日鴻海造車夥伴 Fisker，將關閉加州總部並警告將裁員   \n",
              "18             微軟建威斯康辛州 AI 資料中心，原為鴻海規劃面板廠址   \n",
              "19                    鴻華先進：國內市場正面　積極拓展海外市場   \n",
              "\n",
              "                                          description  \\\n",
              "0   鴻海在威州投資轉折，也成為美國總統大選攻防焦點。美國白宮新聞資料9日指出，前川普政府原承諾鴻...   \n",
              "1   鴻海（2317）今（5）日公布 4 月營收，達 5,108.96 億元，較 3 月成長 14...   \n",
              "2   鴻海今天下午宣布與西門子簽署合作備忘錄（MOU），攜手布局智慧製造未來工廠和製造流程標準，強...   \n",
              "3   鴻海 22 日公告，透過子公司 Cloud Network Technology USA I...   \n",
              "4   美國四大雲端服務供應商（CSP）近期法說會都顯示，因對於伺服器、AI 伺服器與資料中心建置的...   \n",
              "5   永豐投顧指出，鴻海將於14日召開線上法說會，是本週台股重頭戲，隨後人工智慧（AI）晶片龍頭廠...   \n",
              "6   美國四大雲端服務供應商（CSP）大廠今年增加資本支出，散熱大廠 Vertiv 釋出對明年成長...   \n",
              "7   美國總統拜登（Joe Biden）今天在威斯康辛州為微軟投資造勢，抨擊競選對手川普未兌現鴻海...   \n",
              "8   蘋果公司 7 日晚間發表搭載 M4 晶片、歷來最薄的 iPad Pro 平板電腦，以及更大尺...   \n",
              "9   鴻海今天表示，電動車海外布局鎖定東南亞、美國和歐洲市場，2025 年在美國市場推出新車，日本...   \n",
              "10  美國總統拜登今天在威斯康辛州為微軟投資造勢，抨擊大選對手川普未兌現鴻海投資承諾。回顧鴻海在威...   \n",
              "11  工業富聯看好今年人工智慧 AI 伺服器強勁成長，激勵母公司鴻海今天開盤股價勁揚，最高 179...   \n",
              "12                  「空蛙加入鴻海吧」、「最近海運很好，買鴻海」、「海公公等我上車」。   \n",
              "13  鴻海轉投資日本夏普（Sharp）旗下大阪堺工廠（SDP）大尺寸面板虧損連連，鴻海董事長劉揚偉...   \n",
              "14  路透社引述兩名知情人士說法報導，越南去年爆發缺電危機後，當地官員要求鴻海位於越南北部的組裝廠...   \n",
              "15  [NOWnews今日新聞]微軟總裁史密斯昨（8）日造訪宣布將在美國威斯康辛州注資興建人工智慧...   \n",
              "16  美國總統拜登（Joe Biden）日前在威斯康辛州，替微軟的新投資造勢，抨擊對手川普並未兌現...   \n",
              "17  美國電動車新創之一的 Fisker，傳出將關閉其位於加州的總部辦公室，同時也警告他們可能會進...   \n",
              "18  微軟總裁史密斯今天宣布將在威斯康辛州投入 33 億美元興建人工智慧資料中心，讓威州成為驅動創...   \n",
              "19  [NOWnews今日新聞]鴻海旗下鴻華先進今（23）日於寶高智慧產業園區召開股東會，由鴻海暨...   \n",
              "\n",
              "                                                  url  \\\n",
              "0          https://www.thenewslens.com/article/202488   \n",
              "1   https://finance.technews.tw/2024/05/05/hon-hai...   \n",
              "2   https://technews.tw/2024/05/15/foxconn-siemens...   \n",
              "3   https://technews.tw/2024/05/23/foxconn-usa-inc...   \n",
              "4    https://finance.technews.tw/2024/05/08/gb200-hh/   \n",
              "5          https://www.thenewslens.com/article/202591   \n",
              "6   https://finance.technews.tw/2024/04/30/planned...   \n",
              "7   https://technews.tw/2024/05/09/hon-hai-investm...   \n",
              "8   https://technews.tw/2024/05/08/ipad-pro-oem-st...   \n",
              "9   https://finance.technews.tw/2024/05/14/honhai-...   \n",
              "10  https://finance.technews.tw/2024/05/09/reasons...   \n",
              "11  https://finance.technews.tw/2024/05/16/ai-serv...   \n",
              "12  https://tw.stock.yahoo.com/news/%E3%80%90hot%E...   \n",
              "13  https://technews.tw/2024/05/14/young-liu-sdp-a...   \n",
              "14  https://technews.tw/2024/05/22/apple-supplier-...   \n",
              "15  https://consent.yahoo.com/v2/collectConsent?se...   \n",
              "16  https://consent.yahoo.com/v2/collectConsent?se...   \n",
              "17  https://technews.tw/2024/05/07/fisker-closing-hq/   \n",
              "18  https://technews.tw/2024/05/09/microsoft-annou...   \n",
              "19  https://tw.news.yahoo.com/%E9%B4%BB%E8%8F%AF%E...   \n",
              "\n",
              "                                           urlToImage           publishedAt  \\\n",
              "0   https://image1.thenewslens.com/2024/5/rqcdtxco...  2024-05-10T01:55:11Z   \n",
              "1   https://img.technews.tw/wp-content/uploads/201...  2024-05-05T08:10:02Z   \n",
              "2   https://img.technews.tw/wp-content/uploads/202...  2024-05-15T07:50:42Z   \n",
              "3   https://img.technews.tw/wp-content/uploads/202...  2024-05-23T02:30:49Z   \n",
              "4   https://img.technews.tw/wp-content/uploads/202...  2024-05-08T05:10:10Z   \n",
              "5   https://image1.thenewslens.com/2023/7/4c1u2nsy...  2024-05-13T01:09:56Z   \n",
              "6   https://img.technews.tw/wp-content/uploads/202...  2024-04-30T02:44:03Z   \n",
              "7   https://img.technews.tw/wp-content/uploads/202...  2024-05-09T03:25:59Z   \n",
              "8   https://img.technews.tw/wp-content/uploads/202...  2024-05-08T03:15:23Z   \n",
              "9   https://img.technews.tw/wp-content/uploads/202...  2024-05-14T10:20:59Z   \n",
              "10  https://img.technews.tw/wp-content/uploads/201...  2024-05-09T07:00:36Z   \n",
              "11  https://img.technews.tw/wp-content/uploads/202...  2024-05-16T02:20:13Z   \n",
              "12  https://s.yimg.com/ny/api/res/1.2/KeZvHW6pZRff...  2024-05-02T19:16:58Z   \n",
              "13  https://img.technews.tw/wp-content/uploads/202...  2024-05-14T08:45:29Z   \n",
              "14  https://img.technews.tw/wp-content/uploads/202...  2024-05-22T02:15:13Z   \n",
              "15                                               None  2024-05-08T18:56:51Z   \n",
              "16                                               None  2024-05-09T22:59:00Z   \n",
              "17  https://img.technews.tw/wp-content/uploads/202...  2024-05-07T08:48:23Z   \n",
              "18  https://img.technews.tw/wp-content/uploads/201...  2024-05-09T01:50:55Z   \n",
              "19  https://media.zenfs.com/ko/nownews.com/b4a078e...  2024-05-22T19:48:06Z   \n",
              "\n",
              "                                              content  \n",
              "0   Photo CreditTikTokTikTok Yes man Diva \\r\\nTikT...  \n",
              "1         23175 4 5,108.96 3 14.2% 19.0% 4 1.83 -3.1%  \n",
              "2   © 2013-2024 TechNews Inc. All rights reserved....  \n",
              "3   22 Cloud Network Technology USA Inc. 1,400 4.5...  \n",
              "4   CSPAI 2024~2025 \\r\\n ARM CPU CSP Nvidia GB200 ...  \n",
              "5   Photo CreditTikTokTikTok Yes man Diva \\r\\nTikT...  \n",
              "6   CSP Vertiv Intel AI PC 40m 2025 \\r\\n H 3D VC \\...  \n",
              "7   © 2013-2024 TechNews Inc. All rights reserved....  \n",
              "8   7 M4 iPad Pro iPad Air8 1%\\r\\n8 169.5171.51.18...  \n",
              "9   2025 \\r\\nModel CCrossoverModel BModel T\\r\\n202...  \n",
              "10  4 \\r\\nMicrosoft332018LCDJoe BidenBrad SmithDon...  \n",
              "11  AI 179 8.5 4.98% 2008 6 2.48 2 \\r\\nAIAI40%AI40...  \n",
              "12  -(2327)(2492)(3357)(6449)(6173) BB1 11.0221%3%...  \n",
              "13  SharpSDP AI \\r\\nSDPSakai Display Product9\\r\\nC...  \n",
              "14  30% \\r\\n210\\r\\nApple2535\\r\\n5614World BankGDP0...  \n",
              "15  If you click 'Accept all', we and our partners...  \n",
              "16  If you click 'Accept all', we and our partners...  \n",
              "17  Fisker\\r\\n FiskerFisker Manhattan Beach \\r\\n F...  \n",
              "18  Growing up in Wisconsin, I developed an apprec...  \n",
              "19  [NOWnews] 232023104399253%1570932000\\r\\nMODEL ...  "
            ],
            "text/html": [
              "\n",
              "  <div id=\"df-193a9dc5-3f67-4566-b916-6d6d2882c431\" class=\"colab-df-container\">\n",
              "    <div>\n",
              "<style scoped>\n",
              "    .dataframe tbody tr th:only-of-type {\n",
              "        vertical-align: middle;\n",
              "    }\n",
              "\n",
              "    .dataframe tbody tr th {\n",
              "        vertical-align: top;\n",
              "    }\n",
              "\n",
              "    .dataframe thead th {\n",
              "        text-align: right;\n",
              "    }\n",
              "</style>\n",
              "<table border=\"1\" class=\"dataframe\">\n",
              "  <thead>\n",
              "    <tr style=\"text-align: right;\">\n",
              "      <th></th>\n",
              "      <th>source</th>\n",
              "      <th>author</th>\n",
              "      <th>title</th>\n",
              "      <th>description</th>\n",
              "      <th>url</th>\n",
              "      <th>urlToImage</th>\n",
              "      <th>publishedAt</th>\n",
              "      <th>content</th>\n",
              "    </tr>\n",
              "  </thead>\n",
              "  <tbody>\n",
              "    <tr>\n",
              "      <th>0</th>\n",
              "      <td>{'id': None, 'name': 'Thenewslens.com'}</td>\n",
              "      <td>中央通訊社</td>\n",
              "      <td>拜登抨擊川普未能兌現投資承諾，鴻海投資威州規模縮水，受4大因素變動影響</td>\n",
              "      <td>鴻海在威州投資轉折，也成為美國總統大選攻防焦點。美國白宮新聞資料9日指出，前川普政府原承諾鴻...</td>\n",
              "      <td>https://www.thenewslens.com/article/202488</td>\n",
              "      <td>https://image1.thenewslens.com/2024/5/rqcdtxco...</td>\n",
              "      <td>2024-05-10T01:55:11Z</td>\n",
              "      <td>Photo CreditTikTokTikTok Yes man Diva \\r\\nTikT...</td>\n",
              "    </tr>\n",
              "    <tr>\n",
              "      <th>1</th>\n",
              "      <td>{'id': None, 'name': 'Technews.tw'}</td>\n",
              "      <td>TechNews 財報助手</td>\n",
              "      <td>鴻海4月營收5,108.96 億元</td>\n",
              "      <td>鴻海（2317）今（5）日公布 4 月營收，達 5,108.96 億元，較 3 月成長 14...</td>\n",
              "      <td>https://finance.technews.tw/2024/05/05/hon-hai...</td>\n",
              "      <td>https://img.technews.tw/wp-content/uploads/201...</td>\n",
              "      <td>2024-05-05T08:10:02Z</td>\n",
              "      <td>23175 4 5,108.96 3 14.2% 19.0% 4 1.83 -3.1%</td>\n",
              "    </tr>\n",
              "    <tr>\n",
              "      <th>2</th>\n",
              "      <td>{'id': None, 'name': 'Technews.tw'}</td>\n",
              "      <td>中央社</td>\n",
              "      <td>鴻海合作西門子，布局資通訊和電動車製造生態系</td>\n",
              "      <td>鴻海今天下午宣布與西門子簽署合作備忘錄（MOU），攜手布局智慧製造未來工廠和製造流程標準，強...</td>\n",
              "      <td>https://technews.tw/2024/05/15/foxconn-siemens...</td>\n",
              "      <td>https://img.technews.tw/wp-content/uploads/202...</td>\n",
              "      <td>2024-05-15T07:50:42Z</td>\n",
              "      <td>© 2013-2024 TechNews Inc. All rights reserved....</td>\n",
              "    </tr>\n",
              "    <tr>\n",
              "      <th>3</th>\n",
              "      <td>{'id': None, 'name': 'Technews.tw'}</td>\n",
              "      <td>MoneyDJ</td>\n",
              "      <td>鴻海增資美國德州廠，續擴大北美 AI 伺服器布局</td>\n",
              "      <td>鴻海 22 日公告，透過子公司 Cloud Network Technology USA I...</td>\n",
              "      <td>https://technews.tw/2024/05/23/foxconn-usa-inc...</td>\n",
              "      <td>https://img.technews.tw/wp-content/uploads/202...</td>\n",
              "      <td>2024-05-23T02:30:49Z</td>\n",
              "      <td>22 Cloud Network Technology USA Inc. 1,400 4.5...</td>\n",
              "    </tr>\n",
              "    <tr>\n",
              "      <th>4</th>\n",
              "      <td>{'id': None, 'name': 'Technews.tw'}</td>\n",
              "      <td>邱 倢芯</td>\n",
              "      <td>GB200 伺服器需求高，鴻海吃下近半數訂單</td>\n",
              "      <td>美國四大雲端服務供應商（CSP）近期法說會都顯示，因對於伺服器、AI 伺服器與資料中心建置的...</td>\n",
              "      <td>https://finance.technews.tw/2024/05/08/gb200-hh/</td>\n",
              "      <td>https://img.technews.tw/wp-content/uploads/202...</td>\n",
              "      <td>2024-05-08T05:10:10Z</td>\n",
              "      <td>CSPAI 2024~2025 \\r\\n ARM CPU CSP Nvidia GB200 ...</td>\n",
              "    </tr>\n",
              "    <tr>\n",
              "      <th>5</th>\n",
              "      <td>{'id': None, 'name': 'Thenewslens.com'}</td>\n",
              "      <td>中央通訊社</td>\n",
              "      <td>台積電ADR強漲，法人：台股有望挑戰新高，半導體景氣復甦不如預期強勁</td>\n",
              "      <td>永豐投顧指出，鴻海將於14日召開線上法說會，是本週台股重頭戲，隨後人工智慧（AI）晶片龍頭廠...</td>\n",
              "      <td>https://www.thenewslens.com/article/202591</td>\n",
              "      <td>https://image1.thenewslens.com/2023/7/4c1u2nsy...</td>\n",
              "      <td>2024-05-13T01:09:56Z</td>\n",
              "      <td>Photo CreditTikTokTikTok Yes man Diva \\r\\nTikT...</td>\n",
              "    </tr>\n",
              "    <tr>\n",
              "      <th>6</th>\n",
              "      <td>{'id': None, 'name': 'Technews.tw'}</td>\n",
              "      <td>姚 惠茹</td>\n",
              "      <td>美國 AI 訂單強勁至 2025 年！外資點名奇鋐、雙鴻、鴻海、緯創受惠</td>\n",
              "      <td>美國四大雲端服務供應商（CSP）大廠今年增加資本支出，散熱大廠 Vertiv 釋出對明年成長...</td>\n",
              "      <td>https://finance.technews.tw/2024/04/30/planned...</td>\n",
              "      <td>https://img.technews.tw/wp-content/uploads/202...</td>\n",
              "      <td>2024-04-30T02:44:03Z</td>\n",
              "      <td>CSP Vertiv Intel AI PC 40m 2025 \\r\\n H 3D VC \\...</td>\n",
              "    </tr>\n",
              "    <tr>\n",
              "      <th>7</th>\n",
              "      <td>{'id': None, 'name': 'Technews.tw'}</td>\n",
              "      <td>中央社</td>\n",
              "      <td>鴻海：投資威州 10 億美元，是資料伺服器關鍵製造據點</td>\n",
              "      <td>美國總統拜登（Joe Biden）今天在威斯康辛州為微軟投資造勢，抨擊競選對手川普未兌現鴻海...</td>\n",
              "      <td>https://technews.tw/2024/05/09/hon-hai-investm...</td>\n",
              "      <td>https://img.technews.tw/wp-content/uploads/202...</td>\n",
              "      <td>2024-05-09T03:25:59Z</td>\n",
              "      <td>© 2013-2024 TechNews Inc. All rights reserved....</td>\n",
              "    </tr>\n",
              "    <tr>\n",
              "      <th>8</th>\n",
              "      <td>{'id': None, 'name': 'Technews.tw'}</td>\n",
              "      <td>中央社</td>\n",
              "      <td>蘋果 iPad 新品亮相，代工廠股價走揚漲逾 1%</td>\n",
              "      <td>蘋果公司 7 日晚間發表搭載 M4 晶片、歷來最薄的 iPad Pro 平板電腦，以及更大尺...</td>\n",
              "      <td>https://technews.tw/2024/05/08/ipad-pro-oem-st...</td>\n",
              "      <td>https://img.technews.tw/wp-content/uploads/202...</td>\n",
              "      <td>2024-05-08T03:15:23Z</td>\n",
              "      <td>7 M4 iPad Pro iPad Air8 1%\\r\\n8 169.5171.51.18...</td>\n",
              "    </tr>\n",
              "    <tr>\n",
              "      <th>9</th>\n",
              "      <td>{'id': None, 'name': 'Technews.tw'}</td>\n",
              "      <td>中央社</td>\n",
              "      <td>鴻海擬 2025 年美國推出新電動車，日本客戶下半年簽約</td>\n",
              "      <td>鴻海今天表示，電動車海外布局鎖定東南亞、美國和歐洲市場，2025 年在美國市場推出新車，日本...</td>\n",
              "      <td>https://finance.technews.tw/2024/05/14/honhai-...</td>\n",
              "      <td>https://img.technews.tw/wp-content/uploads/202...</td>\n",
              "      <td>2024-05-14T10:20:59Z</td>\n",
              "      <td>2025 \\r\\nModel CCrossoverModel BModel T\\r\\n202...</td>\n",
              "    </tr>\n",
              "    <tr>\n",
              "      <th>10</th>\n",
              "      <td>{'id': None, 'name': 'Technews.tw'}</td>\n",
              "      <td>中央社</td>\n",
              "      <td>鴻海投資威州規模縮水，受四大因素變動影響</td>\n",
              "      <td>美國總統拜登今天在威斯康辛州為微軟投資造勢，抨擊大選對手川普未兌現鴻海投資承諾。回顧鴻海在威...</td>\n",
              "      <td>https://finance.technews.tw/2024/05/09/reasons...</td>\n",
              "      <td>https://img.technews.tw/wp-content/uploads/201...</td>\n",
              "      <td>2024-05-09T07:00:36Z</td>\n",
              "      <td>4 \\r\\nMicrosoft332018LCDJoe BidenBrad SmithDon...</td>\n",
              "    </tr>\n",
              "    <tr>\n",
              "      <th>11</th>\n",
              "      <td>{'id': None, 'name': 'Technews.tw'}</td>\n",
              "      <td>中央社</td>\n",
              "      <td>AI 伺服器強勁，鴻海早盤股價漲近 5% 創 16 年高點</td>\n",
              "      <td>工業富聯看好今年人工智慧 AI 伺服器強勁成長，激勵母公司鴻海今天開盤股價勁揚，最高 179...</td>\n",
              "      <td>https://finance.technews.tw/2024/05/16/ai-serv...</td>\n",
              "      <td>https://img.technews.tw/wp-content/uploads/202...</td>\n",
              "      <td>2024-05-16T02:20:13Z</td>\n",
              "      <td>AI 179 8.5 4.98% 2008 6 2.48 2 \\r\\nAIAI40%AI40...</td>\n",
              "    </tr>\n",
              "    <tr>\n",
              "      <th>12</th>\n",
              "      <td>{'id': None, 'name': 'Yahoo Entertainment'}</td>\n",
              "      <td>劉瓊雯｜Yahoo財經特派記者</td>\n",
              "      <td>【Hot台股】鴻海跳高站回5日線 網「海公公等我上車」 專家：股價不排除創高</td>\n",
              "      <td>「空蛙加入鴻海吧」、「最近海運很好，買鴻海」、「海公公等我上車」。</td>\n",
              "      <td>https://tw.stock.yahoo.com/news/%E3%80%90hot%E...</td>\n",
              "      <td>https://s.yimg.com/ny/api/res/1.2/KeZvHW6pZRff...</td>\n",
              "      <td>2024-05-02T19:16:58Z</td>\n",
              "      <td>-(2327)(2492)(3357)(6449)(6173) BB1 11.0221%3%...</td>\n",
              "    </tr>\n",
              "    <tr>\n",
              "      <th>13</th>\n",
              "      <td>{'id': None, 'name': 'Technews.tw'}</td>\n",
              "      <td>中央社</td>\n",
              "      <td>鴻海轉投資夏普堺工廠定位，劉揚偉：轉型 AI 資料中心</td>\n",
              "      <td>鴻海轉投資日本夏普（Sharp）旗下大阪堺工廠（SDP）大尺寸面板虧損連連，鴻海董事長劉揚偉...</td>\n",
              "      <td>https://technews.tw/2024/05/14/young-liu-sdp-a...</td>\n",
              "      <td>https://img.technews.tw/wp-content/uploads/202...</td>\n",
              "      <td>2024-05-14T08:45:29Z</td>\n",
              "      <td>SharpSDP AI \\r\\nSDPSakai Display Product9\\r\\nC...</td>\n",
              "    </tr>\n",
              "    <tr>\n",
              "      <th>14</th>\n",
              "      <td>{'id': None, 'name': 'Technews.tw'}</td>\n",
              "      <td>中央社</td>\n",
              "      <td>路透：越南憂缺電危機重演，要求鴻海等外商減少用電</td>\n",
              "      <td>路透社引述兩名知情人士說法報導，越南去年爆發缺電危機後，當地官員要求鴻海位於越南北部的組裝廠...</td>\n",
              "      <td>https://technews.tw/2024/05/22/apple-supplier-...</td>\n",
              "      <td>https://img.technews.tw/wp-content/uploads/202...</td>\n",
              "      <td>2024-05-22T02:15:13Z</td>\n",
              "      <td>30% \\r\\n210\\r\\nApple2535\\r\\n5614World BankGDP0...</td>\n",
              "    </tr>\n",
              "    <tr>\n",
              "      <th>15</th>\n",
              "      <td>{'id': None, 'name': 'Yahoo Entertainment'}</td>\n",
              "      <td>None</td>\n",
              "      <td>拜登酸川普未兌現對鴻海的投資　鴻海這樣說</td>\n",
              "      <td>[NOWnews今日新聞]微軟總裁史密斯昨（8）日造訪宣布將在美國威斯康辛州注資興建人工智慧...</td>\n",
              "      <td>https://consent.yahoo.com/v2/collectConsent?se...</td>\n",
              "      <td>None</td>\n",
              "      <td>2024-05-08T18:56:51Z</td>\n",
              "      <td>If you click 'Accept all', we and our partners...</td>\n",
              "    </tr>\n",
              "    <tr>\n",
              "      <th>16</th>\n",
              "      <td>{'id': None, 'name': 'Yahoo Entertainment'}</td>\n",
              "      <td>None</td>\n",
              "      <td>拜登拿鴻海威州投資酸爆川普　鴻海回應了</td>\n",
              "      <td>美國總統拜登（Joe Biden）日前在威斯康辛州，替微軟的新投資造勢，抨擊對手川普並未兌現...</td>\n",
              "      <td>https://consent.yahoo.com/v2/collectConsent?se...</td>\n",
              "      <td>None</td>\n",
              "      <td>2024-05-09T22:59:00Z</td>\n",
              "      <td>If you click 'Accept all', we and our partners...</td>\n",
              "    </tr>\n",
              "    <tr>\n",
              "      <th>17</th>\n",
              "      <td>{'id': None, 'name': 'Technews.tw'}</td>\n",
              "      <td>Chen Kobe</td>\n",
              "      <td>昔日鴻海造車夥伴 Fisker，將關閉加州總部並警告將裁員</td>\n",
              "      <td>美國電動車新創之一的 Fisker，傳出將關閉其位於加州的總部辦公室，同時也警告他們可能會進...</td>\n",
              "      <td>https://technews.tw/2024/05/07/fisker-closing-hq/</td>\n",
              "      <td>https://img.technews.tw/wp-content/uploads/202...</td>\n",
              "      <td>2024-05-07T08:48:23Z</td>\n",
              "      <td>Fisker\\r\\n FiskerFisker Manhattan Beach \\r\\n F...</td>\n",
              "    </tr>\n",
              "    <tr>\n",
              "      <th>18</th>\n",
              "      <td>{'id': None, 'name': 'Technews.tw'}</td>\n",
              "      <td>中央社</td>\n",
              "      <td>微軟建威斯康辛州 AI 資料中心，原為鴻海規劃面板廠址</td>\n",
              "      <td>微軟總裁史密斯今天宣布將在威斯康辛州投入 33 億美元興建人工智慧資料中心，讓威州成為驅動創...</td>\n",
              "      <td>https://technews.tw/2024/05/09/microsoft-annou...</td>\n",
              "      <td>https://img.technews.tw/wp-content/uploads/201...</td>\n",
              "      <td>2024-05-09T01:50:55Z</td>\n",
              "      <td>Growing up in Wisconsin, I developed an apprec...</td>\n",
              "    </tr>\n",
              "    <tr>\n",
              "      <th>19</th>\n",
              "      <td>{'id': None, 'name': 'Yahoo Entertainment'}</td>\n",
              "      <td>記者許家禎／台北報導</td>\n",
              "      <td>鴻華先進：國內市場正面　積極拓展海外市場</td>\n",
              "      <td>[NOWnews今日新聞]鴻海旗下鴻華先進今（23）日於寶高智慧產業園區召開股東會，由鴻海暨...</td>\n",
              "      <td>https://tw.news.yahoo.com/%E9%B4%BB%E8%8F%AF%E...</td>\n",
              "      <td>https://media.zenfs.com/ko/nownews.com/b4a078e...</td>\n",
              "      <td>2024-05-22T19:48:06Z</td>\n",
              "      <td>[NOWnews] 232023104399253%1570932000\\r\\nMODEL ...</td>\n",
              "    </tr>\n",
              "  </tbody>\n",
              "</table>\n",
              "</div>\n",
              "    <div class=\"colab-df-buttons\">\n",
              "\n",
              "  <div class=\"colab-df-container\">\n",
              "    <button class=\"colab-df-convert\" onclick=\"convertToInteractive('df-193a9dc5-3f67-4566-b916-6d6d2882c431')\"\n",
              "            title=\"Convert this dataframe to an interactive table.\"\n",
              "            style=\"display:none;\">\n",
              "\n",
              "  <svg xmlns=\"http://www.w3.org/2000/svg\" height=\"24px\" viewBox=\"0 -960 960 960\">\n",
              "    <path d=\"M120-120v-720h720v720H120Zm60-500h600v-160H180v160Zm220 220h160v-160H400v160Zm0 220h160v-160H400v160ZM180-400h160v-160H180v160Zm440 0h160v-160H620v160ZM180-180h160v-160H180v160Zm440 0h160v-160H620v160Z\"/>\n",
              "  </svg>\n",
              "    </button>\n",
              "\n",
              "  <style>\n",
              "    .colab-df-container {\n",
              "      display:flex;\n",
              "      gap: 12px;\n",
              "    }\n",
              "\n",
              "    .colab-df-convert {\n",
              "      background-color: #E8F0FE;\n",
              "      border: none;\n",
              "      border-radius: 50%;\n",
              "      cursor: pointer;\n",
              "      display: none;\n",
              "      fill: #1967D2;\n",
              "      height: 32px;\n",
              "      padding: 0 0 0 0;\n",
              "      width: 32px;\n",
              "    }\n",
              "\n",
              "    .colab-df-convert:hover {\n",
              "      background-color: #E2EBFA;\n",
              "      box-shadow: 0px 1px 2px rgba(60, 64, 67, 0.3), 0px 1px 3px 1px rgba(60, 64, 67, 0.15);\n",
              "      fill: #174EA6;\n",
              "    }\n",
              "\n",
              "    .colab-df-buttons div {\n",
              "      margin-bottom: 4px;\n",
              "    }\n",
              "\n",
              "    [theme=dark] .colab-df-convert {\n",
              "      background-color: #3B4455;\n",
              "      fill: #D2E3FC;\n",
              "    }\n",
              "\n",
              "    [theme=dark] .colab-df-convert:hover {\n",
              "      background-color: #434B5C;\n",
              "      box-shadow: 0px 1px 3px 1px rgba(0, 0, 0, 0.15);\n",
              "      filter: drop-shadow(0px 1px 2px rgba(0, 0, 0, 0.3));\n",
              "      fill: #FFFFFF;\n",
              "    }\n",
              "  </style>\n",
              "\n",
              "    <script>\n",
              "      const buttonEl =\n",
              "        document.querySelector('#df-193a9dc5-3f67-4566-b916-6d6d2882c431 button.colab-df-convert');\n",
              "      buttonEl.style.display =\n",
              "        google.colab.kernel.accessAllowed ? 'block' : 'none';\n",
              "\n",
              "      async function convertToInteractive(key) {\n",
              "        const element = document.querySelector('#df-193a9dc5-3f67-4566-b916-6d6d2882c431');\n",
              "        const dataTable =\n",
              "          await google.colab.kernel.invokeFunction('convertToInteractive',\n",
              "                                                    [key], {});\n",
              "        if (!dataTable) return;\n",
              "\n",
              "        const docLinkHtml = 'Like what you see? Visit the ' +\n",
              "          '<a target=\"_blank\" href=https://colab.research.google.com/notebooks/data_table.ipynb>data table notebook</a>'\n",
              "          + ' to learn more about interactive tables.';\n",
              "        element.innerHTML = '';\n",
              "        dataTable['output_type'] = 'display_data';\n",
              "        await google.colab.output.renderOutput(dataTable, element);\n",
              "        const docLink = document.createElement('div');\n",
              "        docLink.innerHTML = docLinkHtml;\n",
              "        element.appendChild(docLink);\n",
              "      }\n",
              "    </script>\n",
              "  </div>\n",
              "\n",
              "\n",
              "<div id=\"df-177495ff-0ac3-4fd3-965d-0af46d39462f\">\n",
              "  <button class=\"colab-df-quickchart\" onclick=\"quickchart('df-177495ff-0ac3-4fd3-965d-0af46d39462f')\"\n",
              "            title=\"Suggest charts\"\n",
              "            style=\"display:none;\">\n",
              "\n",
              "<svg xmlns=\"http://www.w3.org/2000/svg\" height=\"24px\"viewBox=\"0 0 24 24\"\n",
              "     width=\"24px\">\n",
              "    <g>\n",
              "        <path d=\"M19 3H5c-1.1 0-2 .9-2 2v14c0 1.1.9 2 2 2h14c1.1 0 2-.9 2-2V5c0-1.1-.9-2-2-2zM9 17H7v-7h2v7zm4 0h-2V7h2v10zm4 0h-2v-4h2v4z\"/>\n",
              "    </g>\n",
              "</svg>\n",
              "  </button>\n",
              "\n",
              "<style>\n",
              "  .colab-df-quickchart {\n",
              "      --bg-color: #E8F0FE;\n",
              "      --fill-color: #1967D2;\n",
              "      --hover-bg-color: #E2EBFA;\n",
              "      --hover-fill-color: #174EA6;\n",
              "      --disabled-fill-color: #AAA;\n",
              "      --disabled-bg-color: #DDD;\n",
              "  }\n",
              "\n",
              "  [theme=dark] .colab-df-quickchart {\n",
              "      --bg-color: #3B4455;\n",
              "      --fill-color: #D2E3FC;\n",
              "      --hover-bg-color: #434B5C;\n",
              "      --hover-fill-color: #FFFFFF;\n",
              "      --disabled-bg-color: #3B4455;\n",
              "      --disabled-fill-color: #666;\n",
              "  }\n",
              "\n",
              "  .colab-df-quickchart {\n",
              "    background-color: var(--bg-color);\n",
              "    border: none;\n",
              "    border-radius: 50%;\n",
              "    cursor: pointer;\n",
              "    display: none;\n",
              "    fill: var(--fill-color);\n",
              "    height: 32px;\n",
              "    padding: 0;\n",
              "    width: 32px;\n",
              "  }\n",
              "\n",
              "  .colab-df-quickchart:hover {\n",
              "    background-color: var(--hover-bg-color);\n",
              "    box-shadow: 0 1px 2px rgba(60, 64, 67, 0.3), 0 1px 3px 1px rgba(60, 64, 67, 0.15);\n",
              "    fill: var(--button-hover-fill-color);\n",
              "  }\n",
              "\n",
              "  .colab-df-quickchart-complete:disabled,\n",
              "  .colab-df-quickchart-complete:disabled:hover {\n",
              "    background-color: var(--disabled-bg-color);\n",
              "    fill: var(--disabled-fill-color);\n",
              "    box-shadow: none;\n",
              "  }\n",
              "\n",
              "  .colab-df-spinner {\n",
              "    border: 2px solid var(--fill-color);\n",
              "    border-color: transparent;\n",
              "    border-bottom-color: var(--fill-color);\n",
              "    animation:\n",
              "      spin 1s steps(1) infinite;\n",
              "  }\n",
              "\n",
              "  @keyframes spin {\n",
              "    0% {\n",
              "      border-color: transparent;\n",
              "      border-bottom-color: var(--fill-color);\n",
              "      border-left-color: var(--fill-color);\n",
              "    }\n",
              "    20% {\n",
              "      border-color: transparent;\n",
              "      border-left-color: var(--fill-color);\n",
              "      border-top-color: var(--fill-color);\n",
              "    }\n",
              "    30% {\n",
              "      border-color: transparent;\n",
              "      border-left-color: var(--fill-color);\n",
              "      border-top-color: var(--fill-color);\n",
              "      border-right-color: var(--fill-color);\n",
              "    }\n",
              "    40% {\n",
              "      border-color: transparent;\n",
              "      border-right-color: var(--fill-color);\n",
              "      border-top-color: var(--fill-color);\n",
              "    }\n",
              "    60% {\n",
              "      border-color: transparent;\n",
              "      border-right-color: var(--fill-color);\n",
              "    }\n",
              "    80% {\n",
              "      border-color: transparent;\n",
              "      border-right-color: var(--fill-color);\n",
              "      border-bottom-color: var(--fill-color);\n",
              "    }\n",
              "    90% {\n",
              "      border-color: transparent;\n",
              "      border-bottom-color: var(--fill-color);\n",
              "    }\n",
              "  }\n",
              "</style>\n",
              "\n",
              "  <script>\n",
              "    async function quickchart(key) {\n",
              "      const quickchartButtonEl =\n",
              "        document.querySelector('#' + key + ' button');\n",
              "      quickchartButtonEl.disabled = true;  // To prevent multiple clicks.\n",
              "      quickchartButtonEl.classList.add('colab-df-spinner');\n",
              "      try {\n",
              "        const charts = await google.colab.kernel.invokeFunction(\n",
              "            'suggestCharts', [key], {});\n",
              "      } catch (error) {\n",
              "        console.error('Error during call to suggestCharts:', error);\n",
              "      }\n",
              "      quickchartButtonEl.classList.remove('colab-df-spinner');\n",
              "      quickchartButtonEl.classList.add('colab-df-quickchart-complete');\n",
              "    }\n",
              "    (() => {\n",
              "      let quickchartButtonEl =\n",
              "        document.querySelector('#df-177495ff-0ac3-4fd3-965d-0af46d39462f button');\n",
              "      quickchartButtonEl.style.display =\n",
              "        google.colab.kernel.accessAllowed ? 'block' : 'none';\n",
              "    })();\n",
              "  </script>\n",
              "</div>\n",
              "    </div>\n",
              "  </div>\n"
            ],
            "application/vnd.google.colaboratory.intrinsic+json": {
              "type": "dataframe",
              "variable_name": "df",
              "summary": "{\n  \"name\": \"df\",\n  \"rows\": 20,\n  \"fields\": [\n    {\n      \"column\": \"source\",\n      \"properties\": {\n        \"dtype\": \"object\",\n        \"semantic_type\": \"\",\n        \"description\": \"\"\n      }\n    },\n    {\n      \"column\": \"author\",\n      \"properties\": {\n        \"dtype\": \"category\",\n        \"num_unique_values\": 9,\n        \"samples\": [\n          \"Chen Kobe\",\n          \"TechNews \\u8ca1\\u5831\\u52a9\\u624b\",\n          \"\\u59da \\u60e0\\u8339\"\n        ],\n        \"semantic_type\": \"\",\n        \"description\": \"\"\n      }\n    },\n    {\n      \"column\": \"title\",\n      \"properties\": {\n        \"dtype\": \"string\",\n        \"num_unique_values\": 20,\n        \"samples\": [\n          \"\\u62dc\\u767b\\u62a8\\u64ca\\u5ddd\\u666e\\u672a\\u80fd\\u514c\\u73fe\\u6295\\u8cc7\\u627f\\u8afe\\uff0c\\u9d3b\\u6d77\\u6295\\u8cc7\\u5a01\\u5dde\\u898f\\u6a21\\u7e2e\\u6c34\\uff0c\\u53d74\\u5927\\u56e0\\u7d20\\u8b8a\\u52d5\\u5f71\\u97ff\",\n          \"\\u6614\\u65e5\\u9d3b\\u6d77\\u9020\\u8eca\\u5925\\u4f34 Fisker\\uff0c\\u5c07\\u95dc\\u9589\\u52a0\\u5dde\\u7e3d\\u90e8\\u4e26\\u8b66\\u544a\\u5c07\\u88c1\\u54e1\",\n          \"\\u62dc\\u767b\\u9178\\u5ddd\\u666e\\u672a\\u514c\\u73fe\\u5c0d\\u9d3b\\u6d77\\u7684\\u6295\\u8cc7\\u3000\\u9d3b\\u6d77\\u9019\\u6a23\\u8aaa\"\n        ],\n        \"semantic_type\": \"\",\n        \"description\": \"\"\n      }\n    },\n    {\n      \"column\": \"description\",\n      \"properties\": {\n        \"dtype\": \"string\",\n        \"num_unique_values\": 20,\n        \"samples\": [\n          \"\\u9d3b\\u6d77\\u5728\\u5a01\\u5dde\\u6295\\u8cc7\\u8f49\\u6298\\uff0c\\u4e5f\\u6210\\u70ba\\u7f8e\\u570b\\u7e3d\\u7d71\\u5927\\u9078\\u653b\\u9632\\u7126\\u9ede\\u3002\\u7f8e\\u570b\\u767d\\u5bae\\u65b0\\u805e\\u8cc7\\u65999\\u65e5\\u6307\\u51fa\\uff0c\\u524d\\u5ddd\\u666e\\u653f\\u5e9c\\u539f\\u627f\\u8afe\\u9d3b\\u6d77\\u6295\\u8cc7\\u5c07\\u5275\\u90201.3\\u842c\\u500b\\u88fd\\u9020\\u696d\\u5de5\\u4f5c\\u6a5f\\u6703\\uff0c\\u4f46\\u8a08\\u756b\\u6c92\\u6709\\u5be6\\u73fe\\uff0c\\u9d3b\\u6d77\\u653e\\u68c4\\u8208\\u5efa\\u9762\\u677f\\u5ee0\\uff0c\\u53ea\\u6709\\u5275\\u9020\\u5c11\\u6578\\u5de5\\u4f5c\\u6a5f\\u6703\\u3002\\u9d3b\\u6d77\\u56de\\u61c9\\u6307\\u51fa\\uff0c\\u5a01\\u5dde\\u5ee0\\u5340\\u662f\\u88fd\\u9020\\u8cc7\\u6599\\u4f3a\\u670d\\u5668\\u7684\\u95dc\\u9375\\u64da\\u9ede\\uff0c\\u7576\\u5730\\u54e1\\u5de5\\u6578\\u8d85\\u904e1000\\u540d\\uff0c\\u9d3b\\u6d77\\u5728\\u5a01\\u5dde\\u6295\\u8cc7\\u898f\\u6a21\\u905410\\u5104\\u7f8e\\u5143\\uff0c\\u6301\\u7e8c\\u8ffd\\u6c42\\u8207\\u7576\\u5730\\u793e\\u5340\\u4e00\\u540c\\u6210\\u9577\\u7684\\u5951\\u6a5f\\u3002\",\n          \"\\u7f8e\\u570b\\u96fb\\u52d5\\u8eca\\u65b0\\u5275\\u4e4b\\u4e00\\u7684 Fisker\\uff0c\\u50b3\\u51fa\\u5c07\\u95dc\\u9589\\u5176\\u4f4d\\u65bc\\u52a0\\u5dde\\u7684\\u7e3d\\u90e8\\u8fa6\\u516c\\u5ba4\\uff0c\\u540c\\u6642\\u4e5f\\u8b66\\u544a\\u4ed6\\u5011\\u53ef\\u80fd\\u6703\\u9032\\u884c\\u5927\\u898f\\u6a21\\u88c1\\u54e1\\uff0c\\u751a\\u81f3\\u505a\\u597d\\u7834\\u7522\\u6e96\\u5099\\u3002 \\u7576\\u9d3b\\u6d77\\u5ba3\\u4f48\\u6295\\u8cc7 Fisker\\uff0c\\u6210\\u70ba\\u6551\\u547d\\u7a3b\\u8349\\u6642\\uff0cFisker \\u5167\\u90e8\\u6050\\u6015\\u6c92\\u4eba\\u60f3\\u904e\\u4ed6\\u5011\\u6703\\u9019\\u9ebc\\u5feb\\u8d70\\u5230\\u9019\\u4e00\\u6b65\\uff0c\\u6d88\\u606f\\u6307\\u51fa\\u4ed6\\u5011\\u6b63\\u6e96\\u5099\\u95dc\\u9589\\u4f4d\\u65bc\\u52a0\\u5dde Manhattan Beach \\u7684\\u7e3d\\u90e8\\u8fa6\\u516c...\",\n          \"[NOWnews\\u4eca\\u65e5\\u65b0\\u805e]\\u5fae\\u8edf\\u7e3d\\u88c1\\u53f2\\u5bc6\\u65af\\u6628\\uff088\\uff09\\u65e5\\u9020\\u8a2a\\u5ba3\\u5e03\\u5c07\\u5728\\u7f8e\\u570b\\u5a01\\u65af\\u5eb7\\u8f9b\\u5dde\\u6ce8\\u8cc7\\u8208\\u5efa\\u4eba\\u5de5\\u667a\\u6167\\u8cc7\\u6599\\u4e2d\\u5fc3\\uff0c\\u4e26\\u4e14\\u9084\\u9078\\u5728\\u7576\\u5e74\\u9d3b\\u6d77\\u5ba3\\u5e03\\u8981\\u5efa\\u5927\\u5c3a\\u5bf8\\u9762\\u677f\\u5ee0\\u7684\\u5ee0\\u5740\\u3002\\u7f8e\\u570b\\u7e3d\\u7d71\\u62dc\\u767b\\u6628\\u65e5\\u4e5f\\u51fa\\u5e2d\\u540c\\u5834\\u6d3b\\u52d5\\uff0c\\u85c9\\u6a5f\\u628a\\u77db\\u982d\\u6307\\u5411\\u7af6\\u9078\\u5c0d...\"\n        ],\n        \"semantic_type\": \"\",\n        \"description\": \"\"\n      }\n    },\n    {\n      \"column\": \"url\",\n      \"properties\": {\n        \"dtype\": \"string\",\n        \"num_unique_values\": 20,\n        \"samples\": [\n          \"https://www.thenewslens.com/article/202488\",\n          \"https://technews.tw/2024/05/07/fisker-closing-hq/\",\n          \"https://consent.yahoo.com/v2/collectConsent?sessionId=1_cc-session_9d42a8f5-1f20-43ef-a8ed-afd2d5134a79\"\n        ],\n        \"semantic_type\": \"\",\n        \"description\": \"\"\n      }\n    },\n    {\n      \"column\": \"urlToImage\",\n      \"properties\": {\n        \"dtype\": \"string\",\n        \"num_unique_values\": 18,\n        \"samples\": [\n          \"https://image1.thenewslens.com/2024/5/rqcdtxco4xa3g3ojiplcofprbfztqf.jpg?fm=jpg&format=crop&h=630&q=70&w=1200\",\n          \"https://img.technews.tw/wp-content/uploads/2019/06/05160506/TechNews_HON_HAI_2317_202404_yoy.png\",\n          \"https://img.technews.tw/wp-content/uploads/2024/05/08105255/Apple-iPad-Pro-camera.jpg\"\n        ],\n        \"semantic_type\": \"\",\n        \"description\": \"\"\n      }\n    },\n    {\n      \"column\": \"publishedAt\",\n      \"properties\": {\n        \"dtype\": \"object\",\n        \"num_unique_values\": 20,\n        \"samples\": [\n          \"2024-05-10T01:55:11Z\",\n          \"2024-05-07T08:48:23Z\",\n          \"2024-05-08T18:56:51Z\"\n        ],\n        \"semantic_type\": \"\",\n        \"description\": \"\"\n      }\n    },\n    {\n      \"column\": \"content\",\n      \"properties\": {\n        \"dtype\": \"string\",\n        \"num_unique_values\": 17,\n        \"samples\": [\n          \"Photo CreditTikTokTikTok Yes man Diva \\r\\nTikTok Yes man@yesman_7497 Diva@diva.dance4life TikTok \\r\\nPhoto CreditTikTokYes man \\r\\n70 Yes man \\r\\n TikTok 700 Yes manYes man 70 \\r\\n CP Yes man TikTok \\r\\nPhoto Cr\\u2026 [+143 chars]\",\n          \"23175 4 5,108.96 3 14.2% 19.0% 4 1.83 -3.1%\",\n          \"CSP Vertiv Intel AI PC 40m 2025 \\r\\n H 3D VC \\r\\n GB VC NB \\r\\n 2025 2025 \\r\\nMeta 300~370 350~400 2025 Alphabet 49%\\r\\nVertiv 2025 UPS\\r\\n 2024 AI PC 4,000 AI PC AI PC 2025 AI PC \\r\\npixabay\"\n        ],\n        \"semantic_type\": \"\",\n        \"description\": \"\"\n      }\n    }\n  ]\n}"
            }
          },
          "metadata": {},
          "execution_count": 18
        }
      ]
    },
    {
      "cell_type": "code",
      "source": [
        "news_content = \"\"\n",
        "for article in articles:\n",
        "        title = article.get('title', '無標題')\n",
        "        description = article.get('description', '無描述')\n",
        "        content = article.get('content', '無內容')\n",
        "        news_content += f\"標題: {title}\\n描述: {description}\\n內容: {content}\\n\\n\"\n"
      ],
      "metadata": {
        "id": "F-a7AkDDTUlC"
      },
      "execution_count": null,
      "outputs": []
    },
    {
      "cell_type": "code",
      "source": [
        "!pip install openai"
      ],
      "metadata": {
        "colab": {
          "base_uri": "https://localhost:8080/"
        },
        "id": "meYgzZvaTm53",
        "outputId": "bd541545-31e9-4d65-8ded-9bbb58abb64a"
      },
      "execution_count": null,
      "outputs": [
        {
          "output_type": "stream",
          "name": "stdout",
          "text": [
            "Collecting openai\n",
            "  Downloading openai-1.30.2-py3-none-any.whl (320 kB)\n",
            "\u001b[2K     \u001b[90m━━━━━━━━━━━━━━━━━━━━━━━━━━━━━━━━━━━━━━━━\u001b[0m \u001b[32m320.7/320.7 kB\u001b[0m \u001b[31m3.7 MB/s\u001b[0m eta \u001b[36m0:00:00\u001b[0m\n",
            "\u001b[?25hRequirement already satisfied: anyio<5,>=3.5.0 in /usr/local/lib/python3.10/dist-packages (from openai) (3.7.1)\n",
            "Requirement already satisfied: distro<2,>=1.7.0 in /usr/lib/python3/dist-packages (from openai) (1.7.0)\n",
            "Collecting httpx<1,>=0.23.0 (from openai)\n",
            "  Downloading httpx-0.27.0-py3-none-any.whl (75 kB)\n",
            "\u001b[2K     \u001b[90m━━━━━━━━━━━━━━━━━━━━━━━━━━━━━━━━━━━━━━━━\u001b[0m \u001b[32m75.6/75.6 kB\u001b[0m \u001b[31m6.0 MB/s\u001b[0m eta \u001b[36m0:00:00\u001b[0m\n",
            "\u001b[?25hRequirement already satisfied: pydantic<3,>=1.9.0 in /usr/local/lib/python3.10/dist-packages (from openai) (2.7.1)\n",
            "Requirement already satisfied: sniffio in /usr/local/lib/python3.10/dist-packages (from openai) (1.3.1)\n",
            "Requirement already satisfied: tqdm>4 in /usr/local/lib/python3.10/dist-packages (from openai) (4.66.4)\n",
            "Requirement already satisfied: typing-extensions<5,>=4.7 in /usr/local/lib/python3.10/dist-packages (from openai) (4.11.0)\n",
            "Requirement already satisfied: idna>=2.8 in /usr/local/lib/python3.10/dist-packages (from anyio<5,>=3.5.0->openai) (3.7)\n",
            "Requirement already satisfied: exceptiongroup in /usr/local/lib/python3.10/dist-packages (from anyio<5,>=3.5.0->openai) (1.2.1)\n",
            "Requirement already satisfied: certifi in /usr/local/lib/python3.10/dist-packages (from httpx<1,>=0.23.0->openai) (2024.2.2)\n",
            "Collecting httpcore==1.* (from httpx<1,>=0.23.0->openai)\n",
            "  Downloading httpcore-1.0.5-py3-none-any.whl (77 kB)\n",
            "\u001b[2K     \u001b[90m━━━━━━━━━━━━━━━━━━━━━━━━━━━━━━━━━━━━━━━━\u001b[0m \u001b[32m77.9/77.9 kB\u001b[0m \u001b[31m5.8 MB/s\u001b[0m eta \u001b[36m0:00:00\u001b[0m\n",
            "\u001b[?25hCollecting h11<0.15,>=0.13 (from httpcore==1.*->httpx<1,>=0.23.0->openai)\n",
            "  Downloading h11-0.14.0-py3-none-any.whl (58 kB)\n",
            "\u001b[2K     \u001b[90m━━━━━━━━━━━━━━━━━━━━━━━━━━━━━━━━━━━━━━━━\u001b[0m \u001b[32m58.3/58.3 kB\u001b[0m \u001b[31m5.4 MB/s\u001b[0m eta \u001b[36m0:00:00\u001b[0m\n",
            "\u001b[?25hRequirement already satisfied: annotated-types>=0.4.0 in /usr/local/lib/python3.10/dist-packages (from pydantic<3,>=1.9.0->openai) (0.7.0)\n",
            "Requirement already satisfied: pydantic-core==2.18.2 in /usr/local/lib/python3.10/dist-packages (from pydantic<3,>=1.9.0->openai) (2.18.2)\n",
            "Installing collected packages: h11, httpcore, httpx, openai\n",
            "Successfully installed h11-0.14.0 httpcore-1.0.5 httpx-0.27.0 openai-1.30.2\n"
          ]
        }
      ]
    },
    {
      "cell_type": "markdown",
      "source": [
        "GPT分析"
      ],
      "metadata": {
        "id": "pBnbNxfDYvoD"
      }
    },
    {
      "cell_type": "code",
      "source": [
        "from openai import OpenAI\n",
        "import os\n",
        "\n",
        "MODEL=\"gpt-3.5-turbo\"\n",
        "client = OpenAI(api_key='YOUR_OPENAI_API_KEY')"
      ],
      "metadata": {
        "id": "merkSqPXYxnK"
      },
      "execution_count": null,
      "outputs": []
    },
    {
      "cell_type": "code",
      "source": [
        "# 1 - Basic Chat\n",
        "completion = client.chat.completions.create(\n",
        "    model=MODEL,\n",
        "    messages=[\n",
        "        {\"role\": \"system\", \"content\": \"你是一名金融分析師。\"},\n",
        "        {\"role\": \"user\", \"content\": f\"這是最近關於{keyword}的新聞：\\n\\n{news_content}\\n\\n請分析這些新聞可能會如何影響{keyword}的股市表現。並預測1.明天及2.未來一週3.未來一個月4.未來一年的股市漲跌 %數\"}\n",
        "    ]\n",
        ")\n",
        "\n",
        "print(\"Assistant: \" + completion.choices[0].message.content)"
      ],
      "metadata": {
        "colab": {
          "base_uri": "https://localhost:8080/"
        },
        "id": "BM94mYZSZjlp",
        "outputId": "1bf1bf96-7850-4f5b-e0ae-45b24d2a605e"
      },
      "execution_count": null,
      "outputs": [
        {
          "output_type": "stream",
          "name": "stdout",
          "text": [
            "Assistant: 根據以上的新聞內容，我們可以看到鴻海在近期有些正面和負面的消息。整體而言，新聞的影響對鴻海的股市表現可能會有以下影響：\n",
            "\n",
            "1. 明天：考慮到最近的舉措和消息，鴻海的股價可能會受到一些正面消息的影響，例如與西門子合作、在北美擴大AI伺服器布局等。因此，明天鴻海的股價可能會有較穩定的表現，甚至有潛在的上漲。\n",
            "\n",
            "2. 未來一週：考慮到股市的波動性和外部經濟環境，以及鴻海的發展情況，未來一週的股市表現可能會受到更多因素影響，股價可能會較為波動，但整體趨勢可能會向上。\n",
            "\n",
            "3. 未來一個月：隨著市場對於AI伺服器的需求持續增加和夥伴關係的擴展，未來一個月鴻海的股價有潛力繼續上漲。\n",
            "\n",
            "4. 未來一年：在未來一年內，鴻海繼續積極投資新興領域，如智慧製造、智慧城市和電動車市場，這將有助於公司多元化並提升競爭力。因此，整體而言，未來一年的股市漲跌可能會呈現穩步上漲的趨勢。\n",
            "\n",
            "總的來說，基於以上分析，鴻海的股市表現在短期及長期內均有潛力呈現積極的表現，但請注意市場波動性和公司內部變數的影響。投資時應做好風險管理和及時跟進相關新聞動向。\n"
          ]
        }
      ]
    }
  ]
}